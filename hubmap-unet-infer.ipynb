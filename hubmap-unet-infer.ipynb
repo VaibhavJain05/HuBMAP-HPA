{
 "cells": [
  {
   "cell_type": "code",
   "execution_count": 1,
   "id": "ab6cb4d4",
   "metadata": {
    "execution": {
     "iopub.execute_input": "2022-07-04T16:11:45.647376Z",
     "iopub.status.busy": "2022-07-04T16:11:45.646617Z",
     "iopub.status.idle": "2022-07-04T16:11:46.508344Z",
     "shell.execute_reply": "2022-07-04T16:11:46.507076Z"
    },
    "papermill": {
     "duration": 0.871539,
     "end_time": "2022-07-04T16:11:46.510891",
     "exception": false,
     "start_time": "2022-07-04T16:11:45.639352",
     "status": "completed"
    },
    "tags": []
   },
   "outputs": [],
   "source": [
    "!cp -r ../input/pytorch-segmentation-models-lib/ ./"
   ]
  },
  {
   "cell_type": "code",
   "execution_count": 2,
   "id": "c70a1dff",
   "metadata": {
    "execution": {
     "iopub.execute_input": "2022-07-04T16:11:46.521887Z",
     "iopub.status.busy": "2022-07-04T16:11:46.521596Z",
     "iopub.status.idle": "2022-07-04T16:11:47.915412Z",
     "shell.execute_reply": "2022-07-04T16:11:47.914344Z"
    },
    "papermill": {
     "duration": 1.402072,
     "end_time": "2022-07-04T16:11:47.918013",
     "exception": false,
     "start_time": "2022-07-04T16:11:46.515941",
     "status": "completed"
    },
    "tags": []
   },
   "outputs": [
    {
     "name": "stdout",
     "output_type": "stream",
     "text": [
      "Writing to /root/.config/pip/pip.conf\r\n"
     ]
    }
   ],
   "source": [
    "!pip config set global.disable-pip-version-check true"
   ]
  },
  {
   "cell_type": "code",
   "execution_count": 3,
   "id": "31f28c36",
   "metadata": {
    "execution": {
     "iopub.execute_input": "2022-07-04T16:11:47.929793Z",
     "iopub.status.busy": "2022-07-04T16:11:47.929500Z",
     "iopub.status.idle": "2022-07-04T16:12:29.626536Z",
     "shell.execute_reply": "2022-07-04T16:12:29.625116Z"
    },
    "papermill": {
     "duration": 41.705931,
     "end_time": "2022-07-04T16:12:29.629098",
     "exception": false,
     "start_time": "2022-07-04T16:11:47.923167",
     "status": "completed"
    },
    "tags": []
   },
   "outputs": [
    {
     "name": "stdout",
     "output_type": "stream",
     "text": [
      "\u001b[33mWARNING: Running pip as the 'root' user can result in broken permissions and conflicting behaviour with the system package manager. It is recommended to use a virtual environment instead: https://pip.pypa.io/warnings/venv\u001b[0m\u001b[33m\r\n",
      "\u001b[0m\u001b[33mWARNING: Running pip as the 'root' user can result in broken permissions and conflicting behaviour with the system package manager. It is recommended to use a virtual environment instead: https://pip.pypa.io/warnings/venv\u001b[0m\u001b[33m\r\n",
      "\u001b[0m\u001b[33mWARNING: Running pip as the 'root' user can result in broken permissions and conflicting behaviour with the system package manager. It is recommended to use a virtual environment instead: https://pip.pypa.io/warnings/venv\u001b[0m\u001b[33m\r\n",
      "\u001b[0m\u001b[33mWARNING: Running pip as the 'root' user can result in broken permissions and conflicting behaviour with the system package manager. It is recommended to use a virtual environment instead: https://pip.pypa.io/warnings/venv\u001b[0m\u001b[33m\r\n",
      "\u001b[0m"
     ]
    }
   ],
   "source": [
    "!pip install -q ./pytorch-segmentation-models-lib/pretrainedmodels-0.7.4/pretrainedmodels-0.7.4\n",
    "!pip install -q ./pytorch-segmentation-models-lib/efficientnet_pytorch-0.6.3/efficientnet_pytorch-0.6.3\n",
    "!pip install -q ./pytorch-segmentation-models-lib/timm-0.4.12-py3-none-any.whl\n",
    "!pip install -q ./pytorch-segmentation-models-lib/segmentation_models_pytorch-0.2.0-py3-none-any.whl"
   ]
  },
  {
   "cell_type": "code",
   "execution_count": 4,
   "id": "1d1d5596",
   "metadata": {
    "execution": {
     "iopub.execute_input": "2022-07-04T16:12:29.641247Z",
     "iopub.status.busy": "2022-07-04T16:12:29.640947Z",
     "iopub.status.idle": "2022-07-04T16:12:40.207598Z",
     "shell.execute_reply": "2022-07-04T16:12:40.206599Z"
    },
    "papermill": {
     "duration": 10.575911,
     "end_time": "2022-07-04T16:12:40.210463",
     "exception": false,
     "start_time": "2022-07-04T16:12:29.634552",
     "status": "completed"
    },
    "tags": []
   },
   "outputs": [],
   "source": [
    "import numpy as np\n",
    "import pandas as pd\n",
    "import time\n",
    "import matplotlib.pyplot as plt\n",
    "import cv2\n",
    "import glob\n",
    "import os\n",
    "import shutil\n",
    "import timm\n",
    "import random\n",
    "import torch\n",
    "import torch.nn as nn\n",
    "import torch.optim as optim\n",
    "from torch.optim import lr_scheduler\n",
    "from torch.cuda import amp\n",
    "import albumentations as A\n",
    "from albumentations.pytorch import ToTensorV2\n",
    "import transformers\n",
    "from sklearn.model_selection import StratifiedKFold, KFold, StratifiedGroupKFold\n",
    "import multiprocessing as mp\n",
    "import segmentation_models_pytorch as smp\n",
    "import copy\n",
    "from collections import defaultdict\n",
    "import gc\n",
    "from tqdm import tqdm\n",
    "import tifffile\n",
    "from colorama import Fore, Back, Style"
   ]
  },
  {
   "cell_type": "code",
   "execution_count": 5,
   "id": "c3d26521",
   "metadata": {
    "execution": {
     "iopub.execute_input": "2022-07-04T16:12:40.222331Z",
     "iopub.status.busy": "2022-07-04T16:12:40.221792Z",
     "iopub.status.idle": "2022-07-04T16:12:40.288401Z",
     "shell.execute_reply": "2022-07-04T16:12:40.287495Z"
    },
    "papermill": {
     "duration": 0.074411,
     "end_time": "2022-07-04T16:12:40.290390",
     "exception": false,
     "start_time": "2022-07-04T16:12:40.215979",
     "status": "completed"
    },
    "tags": []
   },
   "outputs": [],
   "source": [
    "class CFG:\n",
    "    seed = 0\n",
    "    batch_size = 12\n",
    "    head = 'unet'\n",
    "    backbone = 'resnext50_32x4d'\n",
    "    img_size = [480, 480]\n",
    "    lr = 1e-3\n",
    "    scheduler = 'CosineAnnealingLR' #['CosineAnnealingLR']\n",
    "    epochs = 18\n",
    "    warmup_epochs = 2\n",
    "    n_folds = 5\n",
    "    folds_to_run = [0, 1, 2, 3, 4]\n",
    "    k_fold_type = 'kfold'\n",
    "    device = torch.device(\"cuda:0\" if torch.cuda.is_available() else \"cpu\")\n",
    "    base_path = '../input/hubmap-organ-segmentation'\n",
    "    num_workers = mp.cpu_count()\n",
    "    num_classes = 1\n",
    "    n_accumulate = max(1, 16//batch_size)\n",
    "    loss = 'BCE'\n",
    "    optimizer = 'SGD'\n",
    "    weight_decay = 1e-6\n",
    "    ckpt_path = '../input/hubmap-unet-train/last_epoch-00.bin' #Checkpoint path\n",
    "    threshold = 0.5\n"
   ]
  },
  {
   "cell_type": "code",
   "execution_count": 6,
   "id": "fa922d7b",
   "metadata": {
    "execution": {
     "iopub.execute_input": "2022-07-04T16:12:40.301401Z",
     "iopub.status.busy": "2022-07-04T16:12:40.301042Z",
     "iopub.status.idle": "2022-07-04T16:12:40.312300Z",
     "shell.execute_reply": "2022-07-04T16:12:40.311360Z"
    },
    "papermill": {
     "duration": 0.018817,
     "end_time": "2022-07-04T16:12:40.314250",
     "exception": false,
     "start_time": "2022-07-04T16:12:40.295433",
     "status": "completed"
    },
    "tags": []
   },
   "outputs": [],
   "source": [
    "# ref: https://www.kaggle.com/paulorzp/run-length-encode-and-decode\n",
    "def rle_decode(mask_rle, shape):\n",
    "    '''\n",
    "    mask_rle: run-length as string formated (start length)\n",
    "    shape: (height,width) of array to return \n",
    "    Returns numpy array, 1 - mask, 0 - background\n",
    "\n",
    "    '''\n",
    "    s = mask_rle.split()\n",
    "    starts, lengths = [np.asarray(x, dtype=int) for x in (s[0:][::2], s[1:][::2])]\n",
    "    starts -= 1\n",
    "    ends = starts + lengths\n",
    "    img = np.zeros(shape[0]*shape[1], dtype=np.uint8)\n",
    "    for lo, hi in zip(starts, ends):\n",
    "        img[lo:hi] = 1\n",
    "    return img.reshape(shape)  # Needed to align to RLE direction\n",
    "\n",
    "\n",
    "# ref.: https://www.kaggle.com/stainsby/fast-tested-rle\n",
    "def rle_encode(img):\n",
    "    '''\n",
    "    img: numpy array, 1 - mask, 0 - background\n",
    "    Returns run length as string formated\n",
    "    '''\n",
    "    pixels = img.flatten()\n",
    "    pixels = np.concatenate([[0], pixels, [0]])\n",
    "    runs = np.where(pixels[1:] != pixels[:-1])[0] + 1\n",
    "    runs[1::2] -= runs[::2]\n",
    "    return ' '.join(str(x) for x in runs)\n",
    "\n",
    "#ref: https://www.kaggle.com/code/bguberfain/memory-aware-rle-encoding/notebook\n",
    "def rle_encode_less_memory(img):\n",
    "    '''\n",
    "    img: numpy array, 1 - mask, 0 - background\n",
    "    Returns run length as string formated\n",
    "    This simplified method requires first and last pixel to be zero\n",
    "    '''\n",
    "    pixels = img.T.flatten()\n",
    "    \n",
    "    # This simplified method requires first and last pixel to be zero\n",
    "    pixels[0] = 0\n",
    "    pixels[-1] = 0\n",
    "    runs = np.where(pixels[1:] != pixels[:-1])[0] + 2\n",
    "    runs[1::2] -= runs[::2]\n",
    "    \n",
    "    return ' '.join(str(x) for x in runs)"
   ]
  },
  {
   "cell_type": "code",
   "execution_count": 7,
   "id": "581d6717",
   "metadata": {
    "execution": {
     "iopub.execute_input": "2022-07-04T16:12:40.326011Z",
     "iopub.status.busy": "2022-07-04T16:12:40.325100Z",
     "iopub.status.idle": "2022-07-04T16:12:40.332824Z",
     "shell.execute_reply": "2022-07-04T16:12:40.332009Z"
    },
    "papermill": {
     "duration": 0.015613,
     "end_time": "2022-07-04T16:12:40.334706",
     "exception": false,
     "start_time": "2022-07-04T16:12:40.319093",
     "status": "completed"
    },
    "tags": []
   },
   "outputs": [],
   "source": [
    "def read_tiff(path, scale=None, verbose=0): #Modified from https://www.kaggle.com/code/abhinand05/hubmap-extensive-eda-what-are-we-hacking\n",
    "    image = tifffile.imread(path)\n",
    "    if len(image.shape) == 5:\n",
    "        image = image.squeeze().transpose(1, 2, 0)\n",
    "    \n",
    "    if verbose:\n",
    "        print(f\"[{path}] Image shape: {image.shape}\")\n",
    "    \n",
    "    if scale:\n",
    "        new_size = (image.shape[1] // scale, image.shape[0] // scale)\n",
    "        image = cv2.resize(image, new_size)\n",
    "        \n",
    "        if verbose:\n",
    "            print(f\"[{path}] Resized Image shape: {image.shape}\")\n",
    "        \n",
    "    mx = np.max(image)\n",
    "    image = image.astype(np.float32)\n",
    "    if mx:\n",
    "        image /= mx # scale image to [0, 1]\n",
    "    return image"
   ]
  },
  {
   "cell_type": "code",
   "execution_count": 8,
   "id": "c23306f4",
   "metadata": {
    "execution": {
     "iopub.execute_input": "2022-07-04T16:12:40.346312Z",
     "iopub.status.busy": "2022-07-04T16:12:40.345596Z",
     "iopub.status.idle": "2022-07-04T16:12:40.381428Z",
     "shell.execute_reply": "2022-07-04T16:12:40.380239Z"
    },
    "papermill": {
     "duration": 0.043973,
     "end_time": "2022-07-04T16:12:40.383221",
     "exception": false,
     "start_time": "2022-07-04T16:12:40.339248",
     "status": "completed"
    },
    "tags": []
   },
   "outputs": [
    {
     "data": {
      "text/html": [
       "<div>\n",
       "<style scoped>\n",
       "    .dataframe tbody tr th:only-of-type {\n",
       "        vertical-align: middle;\n",
       "    }\n",
       "\n",
       "    .dataframe tbody tr th {\n",
       "        vertical-align: top;\n",
       "    }\n",
       "\n",
       "    .dataframe thead th {\n",
       "        text-align: right;\n",
       "    }\n",
       "</style>\n",
       "<table border=\"1\" class=\"dataframe\">\n",
       "  <thead>\n",
       "    <tr style=\"text-align: right;\">\n",
       "      <th></th>\n",
       "      <th>id</th>\n",
       "      <th>organ</th>\n",
       "      <th>data_source</th>\n",
       "      <th>img_height</th>\n",
       "      <th>img_width</th>\n",
       "      <th>pixel_size</th>\n",
       "      <th>tissue_thickness</th>\n",
       "    </tr>\n",
       "  </thead>\n",
       "  <tbody>\n",
       "    <tr>\n",
       "      <th>0</th>\n",
       "      <td>10078</td>\n",
       "      <td>spleen</td>\n",
       "      <td>Hubmap</td>\n",
       "      <td>2023</td>\n",
       "      <td>2023</td>\n",
       "      <td>0.4945</td>\n",
       "      <td>4</td>\n",
       "    </tr>\n",
       "  </tbody>\n",
       "</table>\n",
       "</div>"
      ],
      "text/plain": [
       "      id   organ data_source  img_height  img_width  pixel_size  \\\n",
       "0  10078  spleen      Hubmap        2023       2023      0.4945   \n",
       "\n",
       "   tissue_thickness  \n",
       "0                 4  "
      ]
     },
     "execution_count": 8,
     "metadata": {},
     "output_type": "execute_result"
    }
   ],
   "source": [
    "df = pd.read_csv(\"../input/hubmap-organ-segmentation/test.csv\")\n",
    "df.head()"
   ]
  },
  {
   "cell_type": "code",
   "execution_count": 9,
   "id": "1e01e6a8",
   "metadata": {
    "execution": {
     "iopub.execute_input": "2022-07-04T16:12:40.394609Z",
     "iopub.status.busy": "2022-07-04T16:12:40.393899Z",
     "iopub.status.idle": "2022-07-04T16:12:40.401492Z",
     "shell.execute_reply": "2022-07-04T16:12:40.400496Z"
    },
    "papermill": {
     "duration": 0.015122,
     "end_time": "2022-07-04T16:12:40.403390",
     "exception": false,
     "start_time": "2022-07-04T16:12:40.388268",
     "status": "completed"
    },
    "tags": []
   },
   "outputs": [],
   "source": [
    "df['image_path'] = df['id'].apply(lambda x: os.path.join(CFG.base_path, 'test_images', str(x) + '.tiff'))"
   ]
  },
  {
   "cell_type": "code",
   "execution_count": 10,
   "id": "cc4a7d16",
   "metadata": {
    "execution": {
     "iopub.execute_input": "2022-07-04T16:12:40.414648Z",
     "iopub.status.busy": "2022-07-04T16:12:40.413942Z",
     "iopub.status.idle": "2022-07-04T16:12:40.424699Z",
     "shell.execute_reply": "2022-07-04T16:12:40.423888Z"
    },
    "papermill": {
     "duration": 0.018665,
     "end_time": "2022-07-04T16:12:40.426988",
     "exception": false,
     "start_time": "2022-07-04T16:12:40.408323",
     "status": "completed"
    },
    "tags": []
   },
   "outputs": [],
   "source": [
    "class HuBMAP_Dataset(torch.utils.data.Dataset):\n",
    "    def __init__(self, df, labeled=True, transforms=None):\n",
    "        self.df = df\n",
    "        self.labeled = labeled\n",
    "        self.transforms = transforms\n",
    "        \n",
    "    def __len__(self):\n",
    "        return len(self.df)\n",
    "    \n",
    "    def __getitem__(self, index):\n",
    "        img_path = self.df.loc[index, 'image_path']\n",
    "        img_height = self.df.loc[index, 'img_height']\n",
    "        img_width = self.df.loc[index, 'img_width']\n",
    "        id_ = self.df.loc[index, 'id']\n",
    "        img = read_tiff(img_path)\n",
    "        \n",
    "        if self.labeled:\n",
    "            rle_mask = self.df.loc[index, 'rle']\n",
    "            mask = rle_decode(rle_mask, (img_height, img_width))\n",
    "            \n",
    "            if self.transforms:\n",
    "                data = self.transforms(image=img, mask=mask)\n",
    "                img  = data['image']\n",
    "                mask  = data['mask']\n",
    "            \n",
    "            mask = np.expand_dims(mask, axis=0)\n",
    "            img = np.transpose(img, (2, 0, 1))\n",
    "#             mask = np.transpose(mask, (2, 0, 1))\n",
    "            \n",
    "            return torch.tensor(img), torch.tensor(mask)\n",
    "        \n",
    "        else:\n",
    "            if self.transforms:\n",
    "                data = self.transforms(image=img)\n",
    "                img  = data['image']\n",
    "                \n",
    "            img = np.transpose(img, (2, 0, 1))\n",
    "            \n",
    "            return torch.tensor(img), img_height, img_width, id_"
   ]
  },
  {
   "cell_type": "code",
   "execution_count": 11,
   "id": "c94cf0c2",
   "metadata": {
    "execution": {
     "iopub.execute_input": "2022-07-04T16:12:40.437944Z",
     "iopub.status.busy": "2022-07-04T16:12:40.437705Z",
     "iopub.status.idle": "2022-07-04T16:12:40.443098Z",
     "shell.execute_reply": "2022-07-04T16:12:40.442284Z"
    },
    "papermill": {
     "duration": 0.013109,
     "end_time": "2022-07-04T16:12:40.444944",
     "exception": false,
     "start_time": "2022-07-04T16:12:40.431835",
     "status": "completed"
    },
    "tags": []
   },
   "outputs": [],
   "source": [
    "data_transforms = {\n",
    "    \"inference\": A.Compose([\n",
    "        A.Resize(*CFG.img_size, interpolation=cv2.INTER_NEAREST),\n",
    "        ], p=1.0)\n",
    "}"
   ]
  },
  {
   "cell_type": "code",
   "execution_count": 12,
   "id": "5c7f428a",
   "metadata": {
    "execution": {
     "iopub.execute_input": "2022-07-04T16:12:40.456518Z",
     "iopub.status.busy": "2022-07-04T16:12:40.455821Z",
     "iopub.status.idle": "2022-07-04T16:12:40.463586Z",
     "shell.execute_reply": "2022-07-04T16:12:40.462710Z"
    },
    "papermill": {
     "duration": 0.015921,
     "end_time": "2022-07-04T16:12:40.465845",
     "exception": false,
     "start_time": "2022-07-04T16:12:40.449924",
     "status": "completed"
    },
    "tags": []
   },
   "outputs": [],
   "source": [
    "def build_model():\n",
    "    model = smp.FPN(\n",
    "        encoder_name=CFG.backbone,      \n",
    "        encoder_weights=None,     \n",
    "        in_channels=3,                  \n",
    "        classes=CFG.num_classes,\n",
    "        activation=None,\n",
    "    )\n",
    "    model.to(CFG.device)\n",
    "    return model\n",
    "\n",
    "def load_model(path):\n",
    "    model = build_model()\n",
    "    model.load_state_dict(torch.load(path))\n",
    "    model.eval()\n",
    "    return model"
   ]
  },
  {
   "cell_type": "code",
   "execution_count": 13,
   "id": "3cd355b0",
   "metadata": {
    "execution": {
     "iopub.execute_input": "2022-07-04T16:12:40.476950Z",
     "iopub.status.busy": "2022-07-04T16:12:40.476628Z",
     "iopub.status.idle": "2022-07-04T16:12:40.482091Z",
     "shell.execute_reply": "2022-07-04T16:12:40.481176Z"
    },
    "papermill": {
     "duration": 0.012989,
     "end_time": "2022-07-04T16:12:40.483943",
     "exception": false,
     "start_time": "2022-07-04T16:12:40.470954",
     "status": "completed"
    },
    "tags": []
   },
   "outputs": [],
   "source": [
    "def prepare_loaders():\n",
    "\n",
    "    infer_dataset = HuBMAP_Dataset(df, labeled=False, transforms=data_transforms['inference'])\n",
    "\n",
    "    infer_loader = torch.utils.data.DataLoader(infer_dataset, batch_size=CFG.batch_size,\n",
    "                              num_workers=CFG.num_workers, shuffle=False, pin_memory=True, drop_last=False)\n",
    "    \n",
    "    return infer_loader"
   ]
  },
  {
   "cell_type": "code",
   "execution_count": 14,
   "id": "61d1c46d",
   "metadata": {
    "execution": {
     "iopub.execute_input": "2022-07-04T16:12:40.496023Z",
     "iopub.status.busy": "2022-07-04T16:12:40.494538Z",
     "iopub.status.idle": "2022-07-04T16:12:53.423568Z",
     "shell.execute_reply": "2022-07-04T16:12:53.422447Z"
    },
    "papermill": {
     "duration": 12.937207,
     "end_time": "2022-07-04T16:12:53.426060",
     "exception": false,
     "start_time": "2022-07-04T16:12:40.488853",
     "status": "completed"
    },
    "tags": []
   },
   "outputs": [],
   "source": [
    "infer_loader = prepare_loaders()\n",
    "model = load_model(CFG.ckpt_path)\n",
    "\n",
    "pred_ids = []\n",
    "pred_rles = []\n",
    "with torch.no_grad():\n",
    "    for (images, heights, widths, ids) in infer_loader:\n",
    "        images = images.to(CFG.device)\n",
    "        output = model(images)\n",
    "        output = nn.Sigmoid()(output)\n",
    "        msks = (output.permute((0,2,3,1))>CFG.threshold).to(torch.uint8).cpu().detach().numpy()\n",
    "\n",
    "        for idx in range(msks.shape[0]):\n",
    "            height = heights[idx].item()\n",
    "            width = widths[idx].item()\n",
    "            id_ = ids[idx].item()\n",
    "            msk = cv2.resize(msks[idx].squeeze(), \n",
    "                             dsize=(width, height), \n",
    "                             interpolation=cv2.INTER_NEAREST)\n",
    "            rle = rle_encode_less_memory(msk)\n",
    "            pred_rles.append(rle)\n",
    "            pred_ids.append(id_)\n",
    "\n",
    "        gc.collect()\n",
    "        torch.cuda.empty_cache()"
   ]
  },
  {
   "cell_type": "code",
   "execution_count": 15,
   "id": "2505b97e",
   "metadata": {
    "execution": {
     "iopub.execute_input": "2022-07-04T16:12:53.437440Z",
     "iopub.status.busy": "2022-07-04T16:12:53.437110Z",
     "iopub.status.idle": "2022-07-04T16:12:53.444382Z",
     "shell.execute_reply": "2022-07-04T16:12:53.442369Z"
    },
    "papermill": {
     "duration": 0.015051,
     "end_time": "2022-07-04T16:12:53.446227",
     "exception": false,
     "start_time": "2022-07-04T16:12:53.431176",
     "status": "completed"
    },
    "tags": []
   },
   "outputs": [
    {
     "data": {
      "text/plain": [
       "1"
      ]
     },
     "execution_count": 15,
     "metadata": {},
     "output_type": "execute_result"
    }
   ],
   "source": [
    "len(pred_rles)"
   ]
  },
  {
   "cell_type": "code",
   "execution_count": 16,
   "id": "cb01cf44",
   "metadata": {
    "execution": {
     "iopub.execute_input": "2022-07-04T16:12:53.459347Z",
     "iopub.status.busy": "2022-07-04T16:12:53.457773Z",
     "iopub.status.idle": "2022-07-04T16:12:53.473845Z",
     "shell.execute_reply": "2022-07-04T16:12:53.472966Z"
    },
    "papermill": {
     "duration": 0.024454,
     "end_time": "2022-07-04T16:12:53.475906",
     "exception": false,
     "start_time": "2022-07-04T16:12:53.451452",
     "status": "completed"
    },
    "tags": []
   },
   "outputs": [
    {
     "data": {
      "text/html": [
       "<div>\n",
       "<style scoped>\n",
       "    .dataframe tbody tr th:only-of-type {\n",
       "        vertical-align: middle;\n",
       "    }\n",
       "\n",
       "    .dataframe tbody tr th {\n",
       "        vertical-align: top;\n",
       "    }\n",
       "\n",
       "    .dataframe thead th {\n",
       "        text-align: right;\n",
       "    }\n",
       "</style>\n",
       "<table border=\"1\" class=\"dataframe\">\n",
       "  <thead>\n",
       "    <tr style=\"text-align: right;\">\n",
       "      <th></th>\n",
       "      <th>id</th>\n",
       "      <th>rle</th>\n",
       "    </tr>\n",
       "  </thead>\n",
       "  <tbody>\n",
       "    <tr>\n",
       "      <th>0</th>\n",
       "      <td>10078</td>\n",
       "      <td>616026 9 618049 9 620072 9 622095 9 624122 5 6...</td>\n",
       "    </tr>\n",
       "  </tbody>\n",
       "</table>\n",
       "</div>"
      ],
      "text/plain": [
       "      id                                                rle\n",
       "0  10078  616026 9 618049 9 620072 9 622095 9 624122 5 6..."
      ]
     },
     "metadata": {},
     "output_type": "display_data"
    }
   ],
   "source": [
    "pred_df = pd.DataFrame({\n",
    "    \"id\":pred_ids,\n",
    "    \"rle\":pred_rles\n",
    "})\n",
    "pred_df.to_csv('submission.csv',index=False)\n",
    "display(pred_df.head(5))"
   ]
  },
  {
   "cell_type": "code",
   "execution_count": null,
   "id": "a2fb060b",
   "metadata": {
    "papermill": {
     "duration": 0.004925,
     "end_time": "2022-07-04T16:12:53.485793",
     "exception": false,
     "start_time": "2022-07-04T16:12:53.480868",
     "status": "completed"
    },
    "tags": []
   },
   "outputs": [],
   "source": []
  }
 ],
 "metadata": {
  "kernelspec": {
   "display_name": "Python 3",
   "language": "python",
   "name": "python3"
  },
  "language_info": {
   "codemirror_mode": {
    "name": "ipython",
    "version": 3
   },
   "file_extension": ".py",
   "mimetype": "text/x-python",
   "name": "python",
   "nbconvert_exporter": "python",
   "pygments_lexer": "ipython3",
   "version": "3.7.12"
  },
  "papermill": {
   "default_parameters": {},
   "duration": 79.432798,
   "end_time": "2022-07-04T16:12:56.461019",
   "environment_variables": {},
   "exception": null,
   "input_path": "__notebook__.ipynb",
   "output_path": "__notebook__.ipynb",
   "parameters": {},
   "start_time": "2022-07-04T16:11:37.028221",
   "version": "2.3.4"
  }
 },
 "nbformat": 4,
 "nbformat_minor": 5
}

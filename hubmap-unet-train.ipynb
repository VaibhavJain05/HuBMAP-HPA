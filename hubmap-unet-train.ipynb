{
 "cells": [
  {
   "cell_type": "code",
   "execution_count": 1,
   "id": "3fb26170",
   "metadata": {
    "execution": {
     "iopub.execute_input": "2022-07-04T12:16:39.903252Z",
     "iopub.status.busy": "2022-07-04T12:16:39.902806Z",
     "iopub.status.idle": "2022-07-04T12:16:54.673586Z",
     "shell.execute_reply": "2022-07-04T12:16:54.672434Z"
    },
    "papermill": {
     "duration": 14.782421,
     "end_time": "2022-07-04T12:16:54.676564",
     "exception": false,
     "start_time": "2022-07-04T12:16:39.894143",
     "status": "completed"
    },
    "tags": []
   },
   "outputs": [
    {
     "name": "stdout",
     "output_type": "stream",
     "text": [
      "Collecting segmentation_models_pytorch\r\n",
      "  Downloading segmentation_models_pytorch-0.2.1-py3-none-any.whl (88 kB)\r\n",
      "\u001b[2K     \u001b[90m━━━━━━━━━━━━━━━━━━━━━━━━━━━━━━━━━━━━━━━━\u001b[0m \u001b[32m88.6/88.6 kB\u001b[0m \u001b[31m2.8 MB/s\u001b[0m eta \u001b[36m0:00:00\u001b[0m\r\n",
      "\u001b[?25hCollecting efficientnet-pytorch==0.6.3\r\n",
      "  Downloading efficientnet_pytorch-0.6.3.tar.gz (16 kB)\r\n",
      "  Preparing metadata (setup.py) ... \u001b[?25l-\b \bdone\r\n",
      "\u001b[?25hCollecting timm==0.4.12\r\n",
      "  Downloading timm-0.4.12-py3-none-any.whl (376 kB)\r\n",
      "\u001b[2K     \u001b[90m━━━━━━━━━━━━━━━━━━━━━━━━━━━━━━━━━━━━━━━\u001b[0m \u001b[32m377.0/377.0 kB\u001b[0m \u001b[31m8.8 MB/s\u001b[0m eta \u001b[36m0:00:00\u001b[0m\r\n",
      "\u001b[?25hCollecting pretrainedmodels==0.7.4\r\n",
      "  Downloading pretrainedmodels-0.7.4.tar.gz (58 kB)\r\n",
      "\u001b[2K     \u001b[90m━━━━━━━━━━━━━━━━━━━━━━━━━━━━━━━━━━━━━━━━\u001b[0m \u001b[32m58.8/58.8 kB\u001b[0m \u001b[31m5.7 MB/s\u001b[0m eta \u001b[36m0:00:00\u001b[0m\r\n",
      "\u001b[?25h  Preparing metadata (setup.py) ... \u001b[?25l-\b \bdone\r\n",
      "\u001b[?25hRequirement already satisfied: torchvision>=0.5.0 in /opt/conda/lib/python3.7/site-packages (from segmentation_models_pytorch) (0.12.0)\r\n",
      "Requirement already satisfied: torch in /opt/conda/lib/python3.7/site-packages (from efficientnet-pytorch==0.6.3->segmentation_models_pytorch) (1.11.0)\r\n",
      "Requirement already satisfied: munch in /opt/conda/lib/python3.7/site-packages (from pretrainedmodels==0.7.4->segmentation_models_pytorch) (2.5.0)\r\n",
      "Requirement already satisfied: tqdm in /opt/conda/lib/python3.7/site-packages (from pretrainedmodels==0.7.4->segmentation_models_pytorch) (4.64.0)\r\n",
      "Requirement already satisfied: pillow!=8.3.*,>=5.3.0 in /opt/conda/lib/python3.7/site-packages (from torchvision>=0.5.0->segmentation_models_pytorch) (9.1.1)\r\n",
      "Requirement already satisfied: typing-extensions in /opt/conda/lib/python3.7/site-packages (from torchvision>=0.5.0->segmentation_models_pytorch) (4.1.1)\r\n",
      "Requirement already satisfied: numpy in /opt/conda/lib/python3.7/site-packages (from torchvision>=0.5.0->segmentation_models_pytorch) (1.21.6)\r\n",
      "Requirement already satisfied: requests in /opt/conda/lib/python3.7/site-packages (from torchvision>=0.5.0->segmentation_models_pytorch) (2.27.1)\r\n",
      "Requirement already satisfied: six in /opt/conda/lib/python3.7/site-packages (from munch->pretrainedmodels==0.7.4->segmentation_models_pytorch) (1.16.0)\r\n",
      "Requirement already satisfied: idna<4,>=2.5 in /opt/conda/lib/python3.7/site-packages (from requests->torchvision>=0.5.0->segmentation_models_pytorch) (3.3)\r\n",
      "Requirement already satisfied: urllib3<1.27,>=1.21.1 in /opt/conda/lib/python3.7/site-packages (from requests->torchvision>=0.5.0->segmentation_models_pytorch) (1.26.9)\r\n",
      "Requirement already satisfied: certifi>=2017.4.17 in /opt/conda/lib/python3.7/site-packages (from requests->torchvision>=0.5.0->segmentation_models_pytorch) (2022.6.15)\r\n",
      "Requirement already satisfied: charset-normalizer~=2.0.0 in /opt/conda/lib/python3.7/site-packages (from requests->torchvision>=0.5.0->segmentation_models_pytorch) (2.0.12)\r\n",
      "Building wheels for collected packages: efficientnet-pytorch, pretrainedmodels\r\n",
      "  Building wheel for efficientnet-pytorch (setup.py) ... \u001b[?25l-\b \b\\\b \bdone\r\n",
      "\u001b[?25h  Created wheel for efficientnet-pytorch: filename=efficientnet_pytorch-0.6.3-py3-none-any.whl size=12421 sha256=80baf5e95c49f9fbffa4e8eb3085e23fabd157e039955f9b2a2f0561b3721bb2\r\n",
      "  Stored in directory: /root/.cache/pip/wheels/90/6b/0c/f0ad36d00310e65390b0d4c9218ae6250ac579c92540c9097a\r\n",
      "  Building wheel for pretrainedmodels (setup.py) ... \u001b[?25l-\b \b\\\b \bdone\r\n",
      "\u001b[?25h  Created wheel for pretrainedmodels: filename=pretrainedmodels-0.7.4-py3-none-any.whl size=60965 sha256=81fd12239b508cd3f9f652640c5b1c7b4c95084057993c77de5dac9b547ab87f\r\n",
      "  Stored in directory: /root/.cache/pip/wheels/ed/27/e8/9543d42de2740d3544db96aefef63bda3f2c1761b3334f4873\r\n",
      "Successfully built efficientnet-pytorch pretrainedmodels\r\n",
      "Installing collected packages: efficientnet-pytorch, timm, pretrainedmodels, segmentation_models_pytorch\r\n",
      "Successfully installed efficientnet-pytorch-0.6.3 pretrainedmodels-0.7.4 segmentation_models_pytorch-0.2.1 timm-0.4.12\r\n",
      "\u001b[33mWARNING: Running pip as the 'root' user can result in broken permissions and conflicting behaviour with the system package manager. It is recommended to use a virtual environment instead: https://pip.pypa.io/warnings/venv\u001b[0m\u001b[33m\r\n",
      "\u001b[0m"
     ]
    }
   ],
   "source": [
    "!pip install segmentation_models_pytorch"
   ]
  },
  {
   "cell_type": "code",
   "execution_count": 2,
   "id": "bcea3bba",
   "metadata": {
    "execution": {
     "iopub.execute_input": "2022-07-04T12:16:54.693696Z",
     "iopub.status.busy": "2022-07-04T12:16:54.693390Z",
     "iopub.status.idle": "2022-07-04T12:17:07.064359Z",
     "shell.execute_reply": "2022-07-04T12:17:07.063294Z"
    },
    "papermill": {
     "duration": 12.381989,
     "end_time": "2022-07-04T12:17:07.066978",
     "exception": false,
     "start_time": "2022-07-04T12:16:54.684989",
     "status": "completed"
    },
    "tags": []
   },
   "outputs": [],
   "source": [
    "import numpy as np\n",
    "import pandas as pd\n",
    "import time\n",
    "import matplotlib.pyplot as plt\n",
    "import cv2\n",
    "import glob\n",
    "import os\n",
    "import shutil\n",
    "import timm\n",
    "import random\n",
    "import torch\n",
    "import torch.nn as nn\n",
    "import torch.optim as optim\n",
    "from torch.optim import lr_scheduler\n",
    "from torch.cuda import amp\n",
    "import albumentations as A\n",
    "from albumentations.pytorch import ToTensorV2\n",
    "import transformers\n",
    "from sklearn.model_selection import StratifiedKFold, KFold, StratifiedGroupKFold\n",
    "import multiprocessing as mp\n",
    "import segmentation_models_pytorch as smp\n",
    "import copy\n",
    "from collections import defaultdict\n",
    "import gc\n",
    "from tqdm import tqdm\n",
    "import tifffile\n",
    "from colorama import Fore, Back, Style\n",
    "c_  = Fore.GREEN\n",
    "sr_ = Style.RESET_ALL"
   ]
  },
  {
   "cell_type": "code",
   "execution_count": 3,
   "id": "a13c2720",
   "metadata": {
    "execution": {
     "iopub.execute_input": "2022-07-04T12:17:07.083209Z",
     "iopub.status.busy": "2022-07-04T12:17:07.082652Z",
     "iopub.status.idle": "2022-07-04T12:17:07.157342Z",
     "shell.execute_reply": "2022-07-04T12:17:07.156408Z"
    },
    "papermill": {
     "duration": 0.085116,
     "end_time": "2022-07-04T12:17:07.159502",
     "exception": false,
     "start_time": "2022-07-04T12:17:07.074386",
     "status": "completed"
    },
    "tags": []
   },
   "outputs": [],
   "source": [
    "class CFG:\n",
    "    seed = 0\n",
    "    batch_size = 12\n",
    "    head = 'unet'\n",
    "    backbone = 'resnext50_32x4d'\n",
    "    img_size = [480, 480]\n",
    "    lr = 1e-3\n",
    "    scheduler = 'CosineAnnealingLR' #['CosineAnnealingLR']\n",
    "    epochs = 18\n",
    "    warmup_epochs = 2\n",
    "    n_folds = 5\n",
    "    folds_to_run = [0, 1, 2, 3, 4]\n",
    "    k_fold_type = 'kfold'\n",
    "    device = torch.device(\"cuda:0\" if torch.cuda.is_available() else \"cpu\")\n",
    "    base_path = '../input/hubmap-organ-segmentation'\n",
    "    num_workers = mp.cpu_count()\n",
    "    num_classes = 1\n",
    "    n_accumulate = max(1, 16//batch_size)\n",
    "    loss = 'BCE'\n",
    "    optimizer = 'SGD'\n",
    "    weight_decay = 1e-6"
   ]
  },
  {
   "cell_type": "code",
   "execution_count": 4,
   "id": "6236acf3",
   "metadata": {
    "execution": {
     "iopub.execute_input": "2022-07-04T12:17:07.176156Z",
     "iopub.status.busy": "2022-07-04T12:17:07.174647Z",
     "iopub.status.idle": "2022-07-04T12:17:07.184400Z",
     "shell.execute_reply": "2022-07-04T12:17:07.183482Z"
    },
    "papermill": {
     "duration": 0.01991,
     "end_time": "2022-07-04T12:17:07.186512",
     "exception": false,
     "start_time": "2022-07-04T12:17:07.166602",
     "status": "completed"
    },
    "tags": []
   },
   "outputs": [],
   "source": [
    "# ref: https://www.kaggle.com/paulorzp/run-length-encode-and-decode\n",
    "def rle_decode(mask_rle, shape):\n",
    "    '''\n",
    "    mask_rle: run-length as string formated (start length)\n",
    "    shape: (height,width) of array to return \n",
    "    Returns numpy array, 1 - mask, 0 - background\n",
    "\n",
    "    '''\n",
    "    s = mask_rle.split()\n",
    "    starts, lengths = [np.asarray(x, dtype=int) for x in (s[0:][::2], s[1:][::2])]\n",
    "    starts -= 1\n",
    "    ends = starts + lengths\n",
    "    img = np.zeros(shape[0]*shape[1], dtype=np.uint8)\n",
    "    for lo, hi in zip(starts, ends):\n",
    "        img[lo:hi] = 1\n",
    "    return img.reshape(shape)  # Needed to align to RLE direction\n",
    "\n",
    "\n",
    "# ref.: https://www.kaggle.com/stainsby/fast-tested-rle\n",
    "def rle_encode(img):\n",
    "    '''\n",
    "    img: numpy array, 1 - mask, 0 - background\n",
    "    Returns run length as string formated\n",
    "    '''\n",
    "    pixels = img.flatten()\n",
    "    pixels = np.concatenate([[0], pixels, [0]])\n",
    "    runs = np.where(pixels[1:] != pixels[:-1])[0] + 1\n",
    "    runs[1::2] -= runs[::2]\n",
    "    return ' '.join(str(x) for x in runs)"
   ]
  },
  {
   "cell_type": "code",
   "execution_count": 5,
   "id": "1de8f9e1",
   "metadata": {
    "execution": {
     "iopub.execute_input": "2022-07-04T12:17:07.202725Z",
     "iopub.status.busy": "2022-07-04T12:17:07.201422Z",
     "iopub.status.idle": "2022-07-04T12:17:07.208927Z",
     "shell.execute_reply": "2022-07-04T12:17:07.208087Z"
    },
    "papermill": {
     "duration": 0.017496,
     "end_time": "2022-07-04T12:17:07.211091",
     "exception": false,
     "start_time": "2022-07-04T12:17:07.193595",
     "status": "completed"
    },
    "tags": []
   },
   "outputs": [],
   "source": [
    "def read_tiff(path, scale=None, verbose=0): #Modified from https://www.kaggle.com/code/abhinand05/hubmap-extensive-eda-what-are-we-hacking\n",
    "    image = tifffile.imread(path)\n",
    "    if len(image.shape) == 5:\n",
    "        image = image.squeeze().transpose(1, 2, 0)\n",
    "    \n",
    "    if verbose:\n",
    "        print(f\"[{path}] Image shape: {image.shape}\")\n",
    "    \n",
    "    if scale:\n",
    "        new_size = (image.shape[1] // scale, image.shape[0] // scale)\n",
    "        image = cv2.resize(image, new_size)\n",
    "        \n",
    "        if verbose:\n",
    "            print(f\"[{path}] Resized Image shape: {image.shape}\")\n",
    "        \n",
    "    mx = np.max(image)\n",
    "    image = image.astype(np.float32)\n",
    "    if mx:\n",
    "        image /= mx # scale image to [0, 1]\n",
    "    return image"
   ]
  },
  {
   "cell_type": "code",
   "execution_count": 6,
   "id": "929f0234",
   "metadata": {
    "execution": {
     "iopub.execute_input": "2022-07-04T12:17:07.226664Z",
     "iopub.status.busy": "2022-07-04T12:17:07.226417Z",
     "iopub.status.idle": "2022-07-04T12:17:07.232755Z",
     "shell.execute_reply": "2022-07-04T12:17:07.231901Z"
    },
    "papermill": {
     "duration": 0.016549,
     "end_time": "2022-07-04T12:17:07.234698",
     "exception": false,
     "start_time": "2022-07-04T12:17:07.218149",
     "status": "completed"
    },
    "tags": []
   },
   "outputs": [],
   "source": [
    "def prepare_loaders(fold):\n",
    "    train_df = df.query(\"fold!=@fold\").reset_index(drop=True)\n",
    "    valid_df = df.query(\"fold==@fold\").reset_index(drop=True)\n",
    "\n",
    "    train_dataset = HuBMAP_Dataset(train_df, transforms=data_transforms['train'])\n",
    "    valid_dataset = HuBMAP_Dataset(valid_df, transforms=data_transforms['valid'])\n",
    "\n",
    "    train_loader = torch.utils.data.DataLoader(train_dataset, batch_size=CFG.batch_size,\n",
    "                              num_workers=CFG.num_workers, shuffle=True, pin_memory=True, drop_last=False)\n",
    "    valid_loader = torch.utils.data.DataLoader(valid_dataset, batch_size=CFG.batch_size,\n",
    "                              num_workers=CFG.num_workers, shuffle=False, pin_memory=True)\n",
    "    \n",
    "    return train_loader, valid_loader"
   ]
  },
  {
   "cell_type": "code",
   "execution_count": 7,
   "id": "d904b8d9",
   "metadata": {
    "execution": {
     "iopub.execute_input": "2022-07-04T12:17:07.250101Z",
     "iopub.status.busy": "2022-07-04T12:17:07.249526Z",
     "iopub.status.idle": "2022-07-04T12:17:07.265166Z",
     "shell.execute_reply": "2022-07-04T12:17:07.263978Z"
    },
    "papermill": {
     "duration": 0.025875,
     "end_time": "2022-07-04T12:17:07.267494",
     "exception": false,
     "start_time": "2022-07-04T12:17:07.241619",
     "status": "completed"
    },
    "tags": []
   },
   "outputs": [
    {
     "name": "stdout",
     "output_type": "stream",
     "text": [
      "> Seeding 👍🏻\n"
     ]
    }
   ],
   "source": [
    "def set_seed(seed = 42): #From https://www.kaggle.com/code/awsaf49/uwmgi-unet-train-pytorch/\n",
    "    '''Sets the seed of the entire notebook so results are the same every time we run.\n",
    "    This is for REPRODUCIBILITY.'''\n",
    "    np.random.seed(seed)\n",
    "    random.seed(seed)\n",
    "    torch.manual_seed(seed)\n",
    "    torch.cuda.manual_seed(seed)\n",
    "    # When running on the CuDNN backend, two further options must be set\n",
    "    torch.backends.cudnn.deterministic = True\n",
    "    torch.backends.cudnn.benchmark = False\n",
    "    # Set a fixed value for the hash seed\n",
    "    os.environ['PYTHONHASHSEED'] = str(seed)\n",
    "    print('> Seeding 👍🏻')\n",
    "    \n",
    "set_seed(CFG.seed)"
   ]
  },
  {
   "cell_type": "code",
   "execution_count": 8,
   "id": "45d3f610",
   "metadata": {
    "execution": {
     "iopub.execute_input": "2022-07-04T12:17:07.284665Z",
     "iopub.status.busy": "2022-07-04T12:17:07.283233Z",
     "iopub.status.idle": "2022-07-04T12:17:07.607630Z",
     "shell.execute_reply": "2022-07-04T12:17:07.606610Z"
    },
    "papermill": {
     "duration": 0.334697,
     "end_time": "2022-07-04T12:17:07.609853",
     "exception": false,
     "start_time": "2022-07-04T12:17:07.275156",
     "status": "completed"
    },
    "tags": []
   },
   "outputs": [
    {
     "data": {
      "text/html": [
       "<div>\n",
       "<style scoped>\n",
       "    .dataframe tbody tr th:only-of-type {\n",
       "        vertical-align: middle;\n",
       "    }\n",
       "\n",
       "    .dataframe tbody tr th {\n",
       "        vertical-align: top;\n",
       "    }\n",
       "\n",
       "    .dataframe thead th {\n",
       "        text-align: right;\n",
       "    }\n",
       "</style>\n",
       "<table border=\"1\" class=\"dataframe\">\n",
       "  <thead>\n",
       "    <tr style=\"text-align: right;\">\n",
       "      <th></th>\n",
       "      <th>id</th>\n",
       "      <th>organ</th>\n",
       "      <th>data_source</th>\n",
       "      <th>img_height</th>\n",
       "      <th>img_width</th>\n",
       "      <th>pixel_size</th>\n",
       "      <th>tissue_thickness</th>\n",
       "      <th>rle</th>\n",
       "      <th>age</th>\n",
       "      <th>sex</th>\n",
       "    </tr>\n",
       "  </thead>\n",
       "  <tbody>\n",
       "    <tr>\n",
       "      <th>0</th>\n",
       "      <td>10044</td>\n",
       "      <td>prostate</td>\n",
       "      <td>HPA</td>\n",
       "      <td>3000</td>\n",
       "      <td>3000</td>\n",
       "      <td>0.4</td>\n",
       "      <td>4</td>\n",
       "      <td>1459676 77 1462675 82 1465674 87 1468673 92 14...</td>\n",
       "      <td>37.0</td>\n",
       "      <td>Male</td>\n",
       "    </tr>\n",
       "    <tr>\n",
       "      <th>1</th>\n",
       "      <td>10274</td>\n",
       "      <td>prostate</td>\n",
       "      <td>HPA</td>\n",
       "      <td>3000</td>\n",
       "      <td>3000</td>\n",
       "      <td>0.4</td>\n",
       "      <td>4</td>\n",
       "      <td>715707 2 718705 8 721703 11 724701 18 727692 3...</td>\n",
       "      <td>76.0</td>\n",
       "      <td>Male</td>\n",
       "    </tr>\n",
       "    <tr>\n",
       "      <th>2</th>\n",
       "      <td>10392</td>\n",
       "      <td>spleen</td>\n",
       "      <td>HPA</td>\n",
       "      <td>3000</td>\n",
       "      <td>3000</td>\n",
       "      <td>0.4</td>\n",
       "      <td>4</td>\n",
       "      <td>1228631 20 1231629 24 1234624 40 1237623 47 12...</td>\n",
       "      <td>82.0</td>\n",
       "      <td>Male</td>\n",
       "    </tr>\n",
       "    <tr>\n",
       "      <th>3</th>\n",
       "      <td>10488</td>\n",
       "      <td>lung</td>\n",
       "      <td>HPA</td>\n",
       "      <td>3000</td>\n",
       "      <td>3000</td>\n",
       "      <td>0.4</td>\n",
       "      <td>4</td>\n",
       "      <td>3446519 15 3449517 17 3452514 20 3455510 24 34...</td>\n",
       "      <td>78.0</td>\n",
       "      <td>Male</td>\n",
       "    </tr>\n",
       "    <tr>\n",
       "      <th>4</th>\n",
       "      <td>10610</td>\n",
       "      <td>spleen</td>\n",
       "      <td>HPA</td>\n",
       "      <td>3000</td>\n",
       "      <td>3000</td>\n",
       "      <td>0.4</td>\n",
       "      <td>4</td>\n",
       "      <td>478925 68 481909 87 484893 105 487863 154 4908...</td>\n",
       "      <td>21.0</td>\n",
       "      <td>Female</td>\n",
       "    </tr>\n",
       "  </tbody>\n",
       "</table>\n",
       "</div>"
      ],
      "text/plain": [
       "      id     organ data_source  img_height  img_width  pixel_size  \\\n",
       "0  10044  prostate         HPA        3000       3000         0.4   \n",
       "1  10274  prostate         HPA        3000       3000         0.4   \n",
       "2  10392    spleen         HPA        3000       3000         0.4   \n",
       "3  10488      lung         HPA        3000       3000         0.4   \n",
       "4  10610    spleen         HPA        3000       3000         0.4   \n",
       "\n",
       "   tissue_thickness                                                rle   age  \\\n",
       "0                 4  1459676 77 1462675 82 1465674 87 1468673 92 14...  37.0   \n",
       "1                 4  715707 2 718705 8 721703 11 724701 18 727692 3...  76.0   \n",
       "2                 4  1228631 20 1231629 24 1234624 40 1237623 47 12...  82.0   \n",
       "3                 4  3446519 15 3449517 17 3452514 20 3455510 24 34...  78.0   \n",
       "4                 4  478925 68 481909 87 484893 105 487863 154 4908...  21.0   \n",
       "\n",
       "      sex  \n",
       "0    Male  \n",
       "1    Male  \n",
       "2    Male  \n",
       "3    Male  \n",
       "4  Female  "
      ]
     },
     "execution_count": 8,
     "metadata": {},
     "output_type": "execute_result"
    }
   ],
   "source": [
    "df = pd.read_csv(os.path.join(CFG.base_path, \"train.csv\"))\n",
    "df.head()"
   ]
  },
  {
   "cell_type": "code",
   "execution_count": 9,
   "id": "e11e9ccc",
   "metadata": {
    "execution": {
     "iopub.execute_input": "2022-07-04T12:17:07.626634Z",
     "iopub.status.busy": "2022-07-04T12:17:07.626345Z",
     "iopub.status.idle": "2022-07-04T12:17:07.652090Z",
     "shell.execute_reply": "2022-07-04T12:17:07.650996Z"
    },
    "papermill": {
     "duration": 0.036554,
     "end_time": "2022-07-04T12:17:07.654285",
     "exception": false,
     "start_time": "2022-07-04T12:17:07.617731",
     "status": "completed"
    },
    "tags": []
   },
   "outputs": [
    {
     "data": {
      "text/html": [
       "<div>\n",
       "<style scoped>\n",
       "    .dataframe tbody tr th:only-of-type {\n",
       "        vertical-align: middle;\n",
       "    }\n",
       "\n",
       "    .dataframe tbody tr th {\n",
       "        vertical-align: top;\n",
       "    }\n",
       "\n",
       "    .dataframe thead th {\n",
       "        text-align: right;\n",
       "    }\n",
       "</style>\n",
       "<table border=\"1\" class=\"dataframe\">\n",
       "  <thead>\n",
       "    <tr style=\"text-align: right;\">\n",
       "      <th></th>\n",
       "      <th>id</th>\n",
       "      <th>organ</th>\n",
       "      <th>data_source</th>\n",
       "      <th>img_height</th>\n",
       "      <th>img_width</th>\n",
       "      <th>pixel_size</th>\n",
       "      <th>tissue_thickness</th>\n",
       "      <th>rle</th>\n",
       "      <th>age</th>\n",
       "      <th>sex</th>\n",
       "      <th>fold</th>\n",
       "    </tr>\n",
       "  </thead>\n",
       "  <tbody>\n",
       "    <tr>\n",
       "      <th>0</th>\n",
       "      <td>10044</td>\n",
       "      <td>prostate</td>\n",
       "      <td>HPA</td>\n",
       "      <td>3000</td>\n",
       "      <td>3000</td>\n",
       "      <td>0.4</td>\n",
       "      <td>4</td>\n",
       "      <td>1459676 77 1462675 82 1465674 87 1468673 92 14...</td>\n",
       "      <td>37.0</td>\n",
       "      <td>Male</td>\n",
       "      <td>3.0</td>\n",
       "    </tr>\n",
       "    <tr>\n",
       "      <th>1</th>\n",
       "      <td>10274</td>\n",
       "      <td>prostate</td>\n",
       "      <td>HPA</td>\n",
       "      <td>3000</td>\n",
       "      <td>3000</td>\n",
       "      <td>0.4</td>\n",
       "      <td>4</td>\n",
       "      <td>715707 2 718705 8 721703 11 724701 18 727692 3...</td>\n",
       "      <td>76.0</td>\n",
       "      <td>Male</td>\n",
       "      <td>1.0</td>\n",
       "    </tr>\n",
       "    <tr>\n",
       "      <th>2</th>\n",
       "      <td>10392</td>\n",
       "      <td>spleen</td>\n",
       "      <td>HPA</td>\n",
       "      <td>3000</td>\n",
       "      <td>3000</td>\n",
       "      <td>0.4</td>\n",
       "      <td>4</td>\n",
       "      <td>1228631 20 1231629 24 1234624 40 1237623 47 12...</td>\n",
       "      <td>82.0</td>\n",
       "      <td>Male</td>\n",
       "      <td>3.0</td>\n",
       "    </tr>\n",
       "    <tr>\n",
       "      <th>3</th>\n",
       "      <td>10488</td>\n",
       "      <td>lung</td>\n",
       "      <td>HPA</td>\n",
       "      <td>3000</td>\n",
       "      <td>3000</td>\n",
       "      <td>0.4</td>\n",
       "      <td>4</td>\n",
       "      <td>3446519 15 3449517 17 3452514 20 3455510 24 34...</td>\n",
       "      <td>78.0</td>\n",
       "      <td>Male</td>\n",
       "      <td>3.0</td>\n",
       "    </tr>\n",
       "    <tr>\n",
       "      <th>4</th>\n",
       "      <td>10610</td>\n",
       "      <td>spleen</td>\n",
       "      <td>HPA</td>\n",
       "      <td>3000</td>\n",
       "      <td>3000</td>\n",
       "      <td>0.4</td>\n",
       "      <td>4</td>\n",
       "      <td>478925 68 481909 87 484893 105 487863 154 4908...</td>\n",
       "      <td>21.0</td>\n",
       "      <td>Female</td>\n",
       "      <td>2.0</td>\n",
       "    </tr>\n",
       "  </tbody>\n",
       "</table>\n",
       "</div>"
      ],
      "text/plain": [
       "      id     organ data_source  img_height  img_width  pixel_size  \\\n",
       "0  10044  prostate         HPA        3000       3000         0.4   \n",
       "1  10274  prostate         HPA        3000       3000         0.4   \n",
       "2  10392    spleen         HPA        3000       3000         0.4   \n",
       "3  10488      lung         HPA        3000       3000         0.4   \n",
       "4  10610    spleen         HPA        3000       3000         0.4   \n",
       "\n",
       "   tissue_thickness                                                rle   age  \\\n",
       "0                 4  1459676 77 1462675 82 1465674 87 1468673 92 14...  37.0   \n",
       "1                 4  715707 2 718705 8 721703 11 724701 18 727692 3...  76.0   \n",
       "2                 4  1228631 20 1231629 24 1234624 40 1237623 47 12...  82.0   \n",
       "3                 4  3446519 15 3449517 17 3452514 20 3455510 24 34...  78.0   \n",
       "4                 4  478925 68 481909 87 484893 105 487863 154 4908...  21.0   \n",
       "\n",
       "      sex  fold  \n",
       "0    Male   3.0  \n",
       "1    Male   1.0  \n",
       "2    Male   3.0  \n",
       "3    Male   3.0  \n",
       "4  Female   2.0  "
      ]
     },
     "execution_count": 9,
     "metadata": {},
     "output_type": "execute_result"
    }
   ],
   "source": [
    "if CFG.k_fold_type == 'kfold':\n",
    "    kf = KFold(n_splits=CFG.n_folds, shuffle=True, random_state=CFG.seed)\n",
    "    for fold, (train_idx, val_idx) in enumerate(kf.split(df)):\n",
    "        df.loc[val_idx, 'fold'] = fold\n",
    "elif CFG.k_fold_type == 'Stratified':\n",
    "    kf = StratifiedKFold(n_splits=CFG.n_folds, shuffle=True, random_state=CFG.seed)\n",
    "    \n",
    "df.head()"
   ]
  },
  {
   "cell_type": "code",
   "execution_count": 10,
   "id": "f64c2f0f",
   "metadata": {
    "execution": {
     "iopub.execute_input": "2022-07-04T12:17:07.671077Z",
     "iopub.status.busy": "2022-07-04T12:17:07.670795Z",
     "iopub.status.idle": "2022-07-04T12:17:07.678279Z",
     "shell.execute_reply": "2022-07-04T12:17:07.677465Z"
    },
    "papermill": {
     "duration": 0.018161,
     "end_time": "2022-07-04T12:17:07.680126",
     "exception": false,
     "start_time": "2022-07-04T12:17:07.661965",
     "status": "completed"
    },
    "tags": []
   },
   "outputs": [],
   "source": [
    "df['image_path'] = df['id'].apply(lambda x: os.path.join(CFG.base_path, 'train_images', str(x) + '.tiff'))"
   ]
  },
  {
   "cell_type": "code",
   "execution_count": 11,
   "id": "29a568a5",
   "metadata": {
    "execution": {
     "iopub.execute_input": "2022-07-04T12:17:07.697117Z",
     "iopub.status.busy": "2022-07-04T12:17:07.696827Z",
     "iopub.status.idle": "2022-07-04T12:17:07.703954Z",
     "shell.execute_reply": "2022-07-04T12:17:07.701912Z"
    },
    "papermill": {
     "duration": 0.018444,
     "end_time": "2022-07-04T12:17:07.706152",
     "exception": false,
     "start_time": "2022-07-04T12:17:07.687708",
     "status": "completed"
    },
    "tags": []
   },
   "outputs": [
    {
     "data": {
      "text/plain": [
       "'../input/hubmap-organ-segmentation/train_images/10044.tiff'"
      ]
     },
     "execution_count": 11,
     "metadata": {},
     "output_type": "execute_result"
    }
   ],
   "source": [
    "df['image_path'][0]"
   ]
  },
  {
   "cell_type": "code",
   "execution_count": 12,
   "id": "d249e640",
   "metadata": {
    "execution": {
     "iopub.execute_input": "2022-07-04T12:17:07.724035Z",
     "iopub.status.busy": "2022-07-04T12:17:07.722703Z",
     "iopub.status.idle": "2022-07-04T12:17:07.734200Z",
     "shell.execute_reply": "2022-07-04T12:17:07.733251Z"
    },
    "papermill": {
     "duration": 0.022271,
     "end_time": "2022-07-04T12:17:07.736068",
     "exception": false,
     "start_time": "2022-07-04T12:17:07.713797",
     "status": "completed"
    },
    "tags": []
   },
   "outputs": [],
   "source": [
    "class HuBMAP_Dataset(torch.utils.data.Dataset):\n",
    "    def __init__(self, df, labeled=True, transforms=None):\n",
    "        self.df = df\n",
    "        self.labeled = labeled\n",
    "        self.transforms = transforms\n",
    "        \n",
    "    def __len__(self):\n",
    "        return len(self.df)\n",
    "    \n",
    "    def __getitem__(self, index):\n",
    "        img_path = self.df.loc[index, 'image_path']\n",
    "        img_height = self.df.loc[index, 'img_height']\n",
    "        img_width = self.df.loc[index, 'img_width']\n",
    "        img = read_tiff(img_path)\n",
    "        \n",
    "        if self.labeled:\n",
    "            rle_mask = self.df.loc[index, 'rle']\n",
    "            mask = rle_decode(rle_mask, (img_height, img_width))\n",
    "            \n",
    "            if self.transforms:\n",
    "                data = self.transforms(image=img, mask=mask)\n",
    "                img  = data['image']\n",
    "                mask  = data['mask']\n",
    "            \n",
    "            mask = np.expand_dims(mask, axis=0)\n",
    "            img = np.transpose(img, (2, 0, 1))\n",
    "#             mask = np.transpose(mask, (2, 0, 1))\n",
    "            \n",
    "            return torch.tensor(img), torch.tensor(mask)\n",
    "        \n",
    "        else:\n",
    "            if self.transforms:\n",
    "                data = self.transforms(image=img)\n",
    "                img  = data['image']\n",
    "                \n",
    "            img = np.transpose(img, (2, 0, 1))\n",
    "            \n",
    "            return torch.tensor(img)"
   ]
  },
  {
   "cell_type": "code",
   "execution_count": 13,
   "id": "52bb5303",
   "metadata": {
    "execution": {
     "iopub.execute_input": "2022-07-04T12:17:07.752872Z",
     "iopub.status.busy": "2022-07-04T12:17:07.752597Z",
     "iopub.status.idle": "2022-07-04T12:17:07.760775Z",
     "shell.execute_reply": "2022-07-04T12:17:07.759897Z"
    },
    "papermill": {
     "duration": 0.018932,
     "end_time": "2022-07-04T12:17:07.762808",
     "exception": false,
     "start_time": "2022-07-04T12:17:07.743876",
     "status": "completed"
    },
    "tags": []
   },
   "outputs": [],
   "source": [
    "data_transforms = {\n",
    "    \"train\": A.Compose([\n",
    "        A.Resize(*CFG.img_size, interpolation=cv2.INTER_NEAREST),\n",
    "        A.HorizontalFlip(p=0.5),\n",
    "        A.ShiftScaleRotate(shift_limit=0.0625, scale_limit=0.05, rotate_limit=10, p=0.5),\n",
    "        A.CoarseDropout(max_holes=16, max_height=64 ,max_width=64 ,p=0.5),\n",
    "        A.ColorJitter(brightness=0.25, contrast=0.25, saturation=0.25, hue=0.25, p=0.75),\n",
    "        A.GridDistortion(num_steps=5, distort_limit=0.3, interpolation=1, p=0.5),\n",
    "    ]),\n",
    "    \n",
    "    \"valid\": A.Compose([\n",
    "        A.Resize(*CFG.img_size, interpolation=cv2.INTER_NEAREST),\n",
    "        ], p=1.0)\n",
    "}"
   ]
  },
  {
   "cell_type": "code",
   "execution_count": 14,
   "id": "48d0a528",
   "metadata": {
    "execution": {
     "iopub.execute_input": "2022-07-04T12:17:07.779528Z",
     "iopub.status.busy": "2022-07-04T12:17:07.779284Z",
     "iopub.status.idle": "2022-07-04T12:17:07.785514Z",
     "shell.execute_reply": "2022-07-04T12:17:07.784479Z"
    },
    "papermill": {
     "duration": 0.017026,
     "end_time": "2022-07-04T12:17:07.787742",
     "exception": false,
     "start_time": "2022-07-04T12:17:07.770716",
     "status": "completed"
    },
    "tags": []
   },
   "outputs": [],
   "source": [
    "def bce_lovasz(output, target):\n",
    "    return (0.5 * BCELoss(output, target)) + (0.5 * LovaszLoss(output, target))\n",
    "\n",
    "def bce_lovasz_tversky_loss(output, target):\n",
    "    return (0.25 * BCELoss(output, target)) + (0.25 * LovaszLoss(output, target)) + (0.5 * TverskyLoss(output, target))\n",
    "\n",
    "def get_loss(epoch):\n",
    "    if epoch <= 5:\n",
    "        return bce_lovasz\n",
    "    else:\n",
    "        return bce_lovasz_tversky_loss"
   ]
  },
  {
   "cell_type": "code",
   "execution_count": 15,
   "id": "d8154f74",
   "metadata": {
    "execution": {
     "iopub.execute_input": "2022-07-04T12:17:07.804561Z",
     "iopub.status.busy": "2022-07-04T12:17:07.803711Z",
     "iopub.status.idle": "2022-07-04T12:17:07.815150Z",
     "shell.execute_reply": "2022-07-04T12:17:07.814343Z"
    },
    "papermill": {
     "duration": 0.021664,
     "end_time": "2022-07-04T12:17:07.817045",
     "exception": false,
     "start_time": "2022-07-04T12:17:07.795381",
     "status": "completed"
    },
    "tags": []
   },
   "outputs": [],
   "source": [
    "JaccardLoss = smp.losses.JaccardLoss(mode='multilabel')\n",
    "# BCEJaccardLoss = smp.losses.bce_jaccrad_loss\n",
    "DiceLoss    = smp.losses.DiceLoss(mode='multilabel')\n",
    "BCELoss     = smp.losses.SoftBCEWithLogitsLoss()\n",
    "LovaszLoss  = smp.losses.LovaszLoss(mode='multilabel', per_image=False)\n",
    "TverskyLoss = smp.losses.TverskyLoss(mode='multilabel', log_loss=False)\n",
    "\n",
    "def dice_coef(y_true, y_pred, thr=0.5, dim=(2,3), epsilon=0.001):\n",
    "    y_true = y_true.to(torch.float32)\n",
    "    y_pred = (y_pred>thr).to(torch.float32)\n",
    "    inter = (y_true*y_pred).sum(dim=dim)\n",
    "    den = y_true.sum(dim=dim) + y_pred.sum(dim=dim)\n",
    "    dice = ((2*inter+epsilon)/(den+epsilon)).mean(dim=(1,0))\n",
    "    return dice\n",
    "\n",
    "def iou_coef(y_true, y_pred, thr=0.5, dim=(2,3), epsilon=0.001):\n",
    "    y_true = y_true.to(torch.float32)\n",
    "    y_pred = (y_pred>thr).to(torch.float32)\n",
    "    inter = (y_true*y_pred).sum(dim=dim)\n",
    "    union = (y_true + y_pred - y_true*y_pred).sum(dim=dim)\n",
    "    iou = ((inter+epsilon)/(union+epsilon)).mean(dim=(1,0))\n",
    "    return iou\n",
    "\n",
    "losses = {\n",
    "    \"Dice\": DiceLoss,\n",
    "    \"Jaccard\": JaccardLoss,\n",
    "    \"BCE\": BCELoss,\n",
    "    \"Lovasz\": LovaszLoss,\n",
    "    \"Tversky\": TverskyLoss,\n",
    "    \"Custom_loss\": get_loss(CFG.epochs)\n",
    "}"
   ]
  },
  {
   "cell_type": "code",
   "execution_count": 16,
   "id": "0d3ee888",
   "metadata": {
    "execution": {
     "iopub.execute_input": "2022-07-04T12:17:07.835101Z",
     "iopub.status.busy": "2022-07-04T12:17:07.833634Z",
     "iopub.status.idle": "2022-07-04T12:17:07.842372Z",
     "shell.execute_reply": "2022-07-04T12:17:07.841289Z"
    },
    "papermill": {
     "duration": 0.019394,
     "end_time": "2022-07-04T12:17:07.844307",
     "exception": false,
     "start_time": "2022-07-04T12:17:07.824913",
     "status": "completed"
    },
    "tags": []
   },
   "outputs": [],
   "source": [
    "def get_scheduler(optimizer):\n",
    "    \n",
    "    if len(df[df['fold'] == CFG.folds_to_run[0]]) % CFG.batch_size != 0:\n",
    "        num_steps = len(df[df['fold'] != CFG.folds_to_run[0]]) // CFG.batch_size + 1\n",
    "    \n",
    "    else:\n",
    "        len(df[df['fold'] != CFG.folds_to_run[0]]) // CFG.batch_size\n",
    "    \n",
    "    if CFG.scheduler == 'CosineAnnealingLR':\n",
    "        scheduler = transformers.get_cosine_schedule_with_warmup(optimizer, CFG.warmup_epochs * num_steps, CFG.epochs * num_steps)\n",
    "        \n",
    "    elif CFG.scheduler == 'ReduceLROnPlateau':\n",
    "        scheduler = lr_scheduler.ReduceLROnPlateau(optimizer, mode='min', factor=0.1, patience=7, threshold=0.0001, min_lr=1e-6)\n",
    "    elif CFG.scheduer == 'ExponentialLR':\n",
    "        scheduler = lr_scheduler.ExponentialLR(optimizer, gamma=0.85)\n",
    "        \n",
    "    return scheduler"
   ]
  },
  {
   "cell_type": "code",
   "execution_count": 17,
   "id": "edc7cf63",
   "metadata": {
    "execution": {
     "iopub.execute_input": "2022-07-04T12:17:07.861114Z",
     "iopub.status.busy": "2022-07-04T12:17:07.860359Z",
     "iopub.status.idle": "2022-07-04T12:17:07.867063Z",
     "shell.execute_reply": "2022-07-04T12:17:07.866159Z"
    },
    "papermill": {
     "duration": 0.01705,
     "end_time": "2022-07-04T12:17:07.869072",
     "exception": false,
     "start_time": "2022-07-04T12:17:07.852022",
     "status": "completed"
    },
    "tags": []
   },
   "outputs": [],
   "source": [
    "def get_optimizer(optimizer_name=CFG.optimizer):\n",
    "    if CFG.optimizer == 'Adam':\n",
    "        optimizer = optim.Adam(model.parameters(), lr=CFG.lr)\n",
    "    \n",
    "    elif CFG.optimizer == 'AdamW':\n",
    "        optimizer = optim.AdamW(model.parameters(), lr=CFG.lr, weight_decay=CFG.weight_decay)\n",
    "        \n",
    "    elif CFG.optimizer == 'SGD':\n",
    "        optimizer = optim.SGD(model.parameters(), lr=CFG.lr, weight_decay=CFG.weight_decay)\n",
    "        \n",
    "    return optimizer"
   ]
  },
  {
   "cell_type": "code",
   "execution_count": 18,
   "id": "c53389b1",
   "metadata": {
    "execution": {
     "iopub.execute_input": "2022-07-04T12:17:07.885531Z",
     "iopub.status.busy": "2022-07-04T12:17:07.885277Z",
     "iopub.status.idle": "2022-07-04T12:17:07.891110Z",
     "shell.execute_reply": "2022-07-04T12:17:07.890182Z"
    },
    "papermill": {
     "duration": 0.016219,
     "end_time": "2022-07-04T12:17:07.893000",
     "exception": false,
     "start_time": "2022-07-04T12:17:07.876781",
     "status": "completed"
    },
    "tags": []
   },
   "outputs": [],
   "source": [
    "def build_model():\n",
    "    model = smp.FPN(\n",
    "        encoder_name=CFG.backbone,      \n",
    "        encoder_weights=\"imagenet\",     \n",
    "        in_channels=3,                  \n",
    "        classes=CFG.num_classes,\n",
    "        activation=None,\n",
    "    )\n",
    "    model.to(CFG.device)\n",
    "    return model\n",
    "\n",
    "def load_model(path):\n",
    "    model = build_model()\n",
    "    model.load_state_dict(torch.load(path))\n",
    "    model.eval()\n",
    "    return model"
   ]
  },
  {
   "cell_type": "code",
   "execution_count": 19,
   "id": "5fac508a",
   "metadata": {
    "execution": {
     "iopub.execute_input": "2022-07-04T12:17:07.910031Z",
     "iopub.status.busy": "2022-07-04T12:17:07.909225Z",
     "iopub.status.idle": "2022-07-04T12:17:07.920343Z",
     "shell.execute_reply": "2022-07-04T12:17:07.919532Z"
    },
    "papermill": {
     "duration": 0.021553,
     "end_time": "2022-07-04T12:17:07.922176",
     "exception": false,
     "start_time": "2022-07-04T12:17:07.900623",
     "status": "completed"
    },
    "tags": []
   },
   "outputs": [],
   "source": [
    "def train_one_epoch(model, optimizer, scheduler, dataloader, device, epoch):\n",
    "    model.train()\n",
    "    scaler = amp.GradScaler()\n",
    "    \n",
    "    dataset_size = 0\n",
    "    running_loss = 0.0\n",
    "    criterion = losses[CFG.loss]\n",
    "    \n",
    "    pbar = tqdm(enumerate(dataloader), total=len(dataloader), desc='Train ')\n",
    "    for step, (images, masks) in pbar:         \n",
    "        images = images.to(device, dtype=torch.float)\n",
    "        masks  = masks.to(device, dtype=torch.float)\n",
    "        \n",
    "        batch_size = images.size(0)\n",
    "        \n",
    "        with amp.autocast(enabled=True):\n",
    "            y_pred = model(images)\n",
    "            loss   = criterion(y_pred, masks)\n",
    "            \n",
    "        scaler.scale(loss).backward()\n",
    "    \n",
    "        if (step + 1) % CFG.n_accumulate == 0:\n",
    "            scaler.step(optimizer)\n",
    "            scaler.update()\n",
    "\n",
    "            # zero the parameter gradients\n",
    "            optimizer.zero_grad()\n",
    "\n",
    "            if scheduler is not None:\n",
    "                scheduler.step()\n",
    "                \n",
    "        running_loss += (loss.item() * batch_size)\n",
    "        dataset_size += batch_size\n",
    "        \n",
    "        epoch_loss = running_loss / dataset_size\n",
    "        \n",
    "        mem = torch.cuda.memory_reserved() / 1E9 if torch.cuda.is_available() else 0\n",
    "        current_lr = optimizer.param_groups[0]['lr']\n",
    "        pbar.set_postfix(train_loss=f'{epoch_loss:0.4f}',\n",
    "                        lr=f'{current_lr:0.5f}',\n",
    "                        gpu_mem=f'{mem:0.2f} GB')\n",
    "    torch.cuda.empty_cache()\n",
    "    gc.collect()\n",
    "    \n",
    "    return epoch_loss"
   ]
  },
  {
   "cell_type": "code",
   "execution_count": 20,
   "id": "18211ee7",
   "metadata": {
    "execution": {
     "iopub.execute_input": "2022-07-04T12:17:07.938127Z",
     "iopub.status.busy": "2022-07-04T12:17:07.937883Z",
     "iopub.status.idle": "2022-07-04T12:17:07.948135Z",
     "shell.execute_reply": "2022-07-04T12:17:07.947286Z"
    },
    "papermill": {
     "duration": 0.020499,
     "end_time": "2022-07-04T12:17:07.950084",
     "exception": false,
     "start_time": "2022-07-04T12:17:07.929585",
     "status": "completed"
    },
    "tags": []
   },
   "outputs": [],
   "source": [
    "@torch.no_grad()\n",
    "def valid_one_epoch(model, dataloader, device, epoch):\n",
    "    model.eval()\n",
    "    \n",
    "    dataset_size = 0\n",
    "    running_loss = 0.0\n",
    "    criterion = losses[CFG.loss]\n",
    "    \n",
    "    val_scores = []\n",
    "    \n",
    "    pbar = tqdm(enumerate(dataloader), total=len(dataloader), desc='Valid ')\n",
    "    for step, (images, masks) in pbar:        \n",
    "        images  = images.to(device, dtype=torch.float)\n",
    "        masks   = masks.to(device, dtype=torch.float)\n",
    "        \n",
    "        batch_size = images.size(0)\n",
    "        \n",
    "        y_pred  = model(images)\n",
    "        loss    = criterion(y_pred, masks)\n",
    "        \n",
    "        running_loss += (loss.item() * batch_size)\n",
    "        dataset_size += batch_size\n",
    "        \n",
    "        epoch_loss = running_loss / dataset_size\n",
    "        \n",
    "        y_pred = nn.Sigmoid()(y_pred)\n",
    "        val_dice = dice_coef(masks, y_pred).cpu().detach().numpy()\n",
    "        val_jaccard = iou_coef(masks, y_pred).cpu().detach().numpy()\n",
    "        val_scores.append([val_dice, val_jaccard])\n",
    "        \n",
    "        mem = torch.cuda.memory_reserved() / 1E9 if torch.cuda.is_available() else 0\n",
    "        current_lr = optimizer.param_groups[0]['lr']\n",
    "        pbar.set_postfix(valid_loss=f'{epoch_loss:0.4f}',\n",
    "                        lr=f'{current_lr:0.5f}',\n",
    "                        gpu_memory=f'{mem:0.2f} GB')\n",
    "    val_scores  = np.mean(val_scores, axis=0)\n",
    "    torch.cuda.empty_cache()\n",
    "    gc.collect()\n",
    "    \n",
    "    return epoch_loss, val_scores"
   ]
  },
  {
   "cell_type": "code",
   "execution_count": 21,
   "id": "de089635",
   "metadata": {
    "execution": {
     "iopub.execute_input": "2022-07-04T12:17:07.967400Z",
     "iopub.status.busy": "2022-07-04T12:17:07.967157Z",
     "iopub.status.idle": "2022-07-04T12:17:07.979353Z",
     "shell.execute_reply": "2022-07-04T12:17:07.978368Z"
    },
    "papermill": {
     "duration": 0.023456,
     "end_time": "2022-07-04T12:17:07.981515",
     "exception": false,
     "start_time": "2022-07-04T12:17:07.958059",
     "status": "completed"
    },
    "tags": []
   },
   "outputs": [],
   "source": [
    "def run_training(model, optimizer, scheduler, device, num_epochs):\n",
    "    # To automatically log gradients\n",
    "    \n",
    "    if torch.cuda.is_available():\n",
    "        print(\"cuda: {}\\n\".format(torch.cuda.get_device_name()))\n",
    "    \n",
    "    start = time.time()\n",
    "    best_model_wts = copy.deepcopy(model.state_dict())\n",
    "    best_dice      = -np.inf\n",
    "    best_epoch     = -1\n",
    "    history = defaultdict(list)\n",
    "    \n",
    "    for epoch in range(1, num_epochs + 1): \n",
    "        gc.collect()\n",
    "        print(f'Epoch {epoch}/{num_epochs}', end='')\n",
    "        train_loss = train_one_epoch(model, optimizer, scheduler, \n",
    "                                           dataloader=train_loader, \n",
    "                                           device=CFG.device, epoch=epoch)\n",
    "        \n",
    "        val_loss, val_scores = valid_one_epoch(model, valid_loader, \n",
    "                                                 device=CFG.device, \n",
    "                                                 epoch=epoch)\n",
    "        val_dice, val_jaccard = val_scores\n",
    "    \n",
    "        history['Train Loss'].append(train_loss)\n",
    "        history['Valid Loss'].append(val_loss)\n",
    "        history['Valid Dice'].append(val_dice)\n",
    "        history['Valid Jaccard'].append(val_jaccard)\n",
    "        \n",
    "        print(f'Valid Dice: {val_dice:0.4f} | Valid Jaccard: {val_jaccard:0.4f}')\n",
    "        \n",
    "        # deep copy the model\n",
    "        if val_dice >= best_dice:\n",
    "            print(f\"{c_}Valid Score Improved ({best_dice:0.4f} ---> {val_dice:0.4f})\")\n",
    "            best_dice    = val_dice\n",
    "            best_jaccard = val_jaccard\n",
    "            best_epoch   = epoch\n",
    "            best_model_wts = copy.deepcopy(model.state_dict())\n",
    "            PATH = f\"best_epoch-{fold:02d}.bin\"\n",
    "            torch.save(model.state_dict(), PATH)\n",
    "            # Save a model file from the current directory\n",
    "            print(f\"Model Saved{sr_}\")\n",
    "            \n",
    "        last_model_wts = copy.deepcopy(model.state_dict())\n",
    "        PATH = f\"last_epoch-{fold:02d}.bin\"\n",
    "        torch.save(model.state_dict(), PATH)\n",
    "            \n",
    "        print(); print()\n",
    "    \n",
    "    end = time.time()\n",
    "    time_elapsed = end - start\n",
    "    print('Training complete in {:.0f}h {:.0f}m {:.0f}s'.format(\n",
    "        time_elapsed // 3600, (time_elapsed % 3600) // 60, (time_elapsed % 3600) % 60))\n",
    "    print(\"Best Score: {:.4f}\".format(best_dice))\n",
    "    \n",
    "    # load best model weights\n",
    "    model.load_state_dict(best_model_wts)\n",
    "    \n",
    "    return model, history"
   ]
  },
  {
   "cell_type": "code",
   "execution_count": 22,
   "id": "ada4f9dd",
   "metadata": {
    "execution": {
     "iopub.execute_input": "2022-07-04T12:17:07.997981Z",
     "iopub.status.busy": "2022-07-04T12:17:07.997268Z",
     "iopub.status.idle": "2022-07-04T13:09:58.075605Z",
     "shell.execute_reply": "2022-07-04T13:09:58.074351Z"
    },
    "papermill": {
     "duration": 3170.088849,
     "end_time": "2022-07-04T13:09:58.077799",
     "exception": false,
     "start_time": "2022-07-04T12:17:07.988950",
     "status": "completed"
    },
    "tags": []
   },
   "outputs": [
    {
     "name": "stdout",
     "output_type": "stream",
     "text": [
      "###############\n",
      "### Fold: 0\n",
      "###############\n"
     ]
    },
    {
     "name": "stderr",
     "output_type": "stream",
     "text": [
      "Downloading: \"https://download.pytorch.org/models/resnext50_32x4d-7cdf4587.pth\" to /root/.cache/torch/hub/checkpoints/resnext50_32x4d-7cdf4587.pth\n"
     ]
    },
    {
     "data": {
      "application/vnd.jupyter.widget-view+json": {
       "model_id": "e5c71daedbf84535be3c7b467bea216e",
       "version_major": 2,
       "version_minor": 0
      },
      "text/plain": [
       "  0%|          | 0.00/95.8M [00:00<?, ?B/s]"
      ]
     },
     "metadata": {},
     "output_type": "display_data"
    },
    {
     "name": "stdout",
     "output_type": "stream",
     "text": [
      "cuda: Tesla P100-PCIE-16GB\n",
      "\n",
      "Epoch 1/18"
     ]
    },
    {
     "name": "stderr",
     "output_type": "stream",
     "text": [
      "Train :   0%|          | 0/24 [00:00<?, ?it/s]/opt/conda/lib/python3.7/site-packages/torch/optim/lr_scheduler.py:136: UserWarning: Detected call of `lr_scheduler.step()` before `optimizer.step()`. In PyTorch 1.1.0 and later, you should call them in the opposite order: `optimizer.step()` before `lr_scheduler.step()`.  Failure to do this will result in PyTorch skipping the first value of the learning rate schedule. See more details at https://pytorch.org/docs/stable/optim.html#how-to-adjust-learning-rate\n",
      "  \"https://pytorch.org/docs/stable/optim.html#how-to-adjust-learning-rate\", UserWarning)\n",
      "Train : 100%|██████████| 24/24 [00:56<00:00,  2.37s/it, gpu_mem=4.95 GB, lr=0.00050, train_loss=1.0566]\n",
      "Valid : 100%|██████████| 6/6 [00:13<00:00,  2.25s/it, gpu_memory=1.83 GB, lr=0.00050, valid_loss=0.4686]\n"
     ]
    },
    {
     "name": "stdout",
     "output_type": "stream",
     "text": [
      "Valid Dice: 0.0663 | Valid Jaccard: 0.0360\n",
      "\u001b[32mValid Score Improved (-inf ---> 0.0663)\n",
      "Model Saved\u001b[0m\n",
      "\n",
      "\n",
      "Epoch 2/18"
     ]
    },
    {
     "name": "stderr",
     "output_type": "stream",
     "text": [
      "Train : 100%|██████████| 24/24 [00:46<00:00,  1.95s/it, gpu_mem=5.15 GB, lr=0.00100, train_loss=0.5517]\n",
      "Valid : 100%|██████████| 6/6 [00:13<00:00,  2.27s/it, gpu_memory=1.92 GB, lr=0.00100, valid_loss=0.3561]\n"
     ]
    },
    {
     "name": "stdout",
     "output_type": "stream",
     "text": [
      "Valid Dice: 0.0175 | Valid Jaccard: 0.0093\n",
      "\n",
      "\n",
      "Epoch 3/18"
     ]
    },
    {
     "name": "stderr",
     "output_type": "stream",
     "text": [
      "Train : 100%|██████████| 24/24 [00:30<00:00,  1.26s/it, gpu_mem=5.14 GB, lr=0.00099, train_loss=0.4829]\n",
      "Valid : 100%|██████████| 6/6 [00:04<00:00,  1.27it/s, gpu_memory=1.95 GB, lr=0.00099, valid_loss=0.3369]\n"
     ]
    },
    {
     "name": "stdout",
     "output_type": "stream",
     "text": [
      "Valid Dice: 0.0306 | Valid Jaccard: 0.0164\n",
      "\n",
      "\n",
      "Epoch 4/18"
     ]
    },
    {
     "name": "stderr",
     "output_type": "stream",
     "text": [
      "Train : 100%|██████████| 24/24 [00:27<00:00,  1.15s/it, gpu_mem=5.15 GB, lr=0.00096, train_loss=0.4468]\n",
      "Valid : 100%|██████████| 6/6 [00:04<00:00,  1.24it/s, gpu_memory=1.94 GB, lr=0.00096, valid_loss=0.3236]\n"
     ]
    },
    {
     "name": "stdout",
     "output_type": "stream",
     "text": [
      "Valid Dice: 0.0346 | Valid Jaccard: 0.0186\n",
      "\n",
      "\n",
      "Epoch 5/18"
     ]
    },
    {
     "name": "stderr",
     "output_type": "stream",
     "text": [
      "Train : 100%|██████████| 24/24 [00:27<00:00,  1.15s/it, gpu_mem=5.14 GB, lr=0.00092, train_loss=0.4282]\n",
      "Valid : 100%|██████████| 6/6 [00:04<00:00,  1.26it/s, gpu_memory=1.91 GB, lr=0.00092, valid_loss=0.3187]\n"
     ]
    },
    {
     "name": "stdout",
     "output_type": "stream",
     "text": [
      "Valid Dice: 0.0324 | Valid Jaccard: 0.0175\n",
      "\n",
      "\n",
      "Epoch 6/18"
     ]
    },
    {
     "name": "stderr",
     "output_type": "stream",
     "text": [
      "Train : 100%|██████████| 24/24 [00:26<00:00,  1.11s/it, gpu_mem=5.16 GB, lr=0.00085, train_loss=0.4321]\n",
      "Valid : 100%|██████████| 6/6 [00:05<00:00,  1.15it/s, gpu_memory=1.91 GB, lr=0.00085, valid_loss=0.3134]\n"
     ]
    },
    {
     "name": "stdout",
     "output_type": "stream",
     "text": [
      "Valid Dice: 0.0326 | Valid Jaccard: 0.0177\n",
      "\n",
      "\n",
      "Epoch 7/18"
     ]
    },
    {
     "name": "stderr",
     "output_type": "stream",
     "text": [
      "Train : 100%|██████████| 24/24 [00:27<00:00,  1.13s/it, gpu_mem=5.15 GB, lr=0.00078, train_loss=0.4092]\n",
      "Valid : 100%|██████████| 6/6 [00:05<00:00,  1.12it/s, gpu_memory=1.96 GB, lr=0.00078, valid_loss=0.3042]\n"
     ]
    },
    {
     "name": "stdout",
     "output_type": "stream",
     "text": [
      "Valid Dice: 0.0352 | Valid Jaccard: 0.0191\n",
      "\n",
      "\n",
      "Epoch 8/18"
     ]
    },
    {
     "name": "stderr",
     "output_type": "stream",
     "text": [
      "Train : 100%|██████████| 24/24 [00:26<00:00,  1.11s/it, gpu_mem=5.16 GB, lr=0.00069, train_loss=0.4155]\n",
      "Valid : 100%|██████████| 6/6 [00:05<00:00,  1.12it/s, gpu_memory=1.91 GB, lr=0.00069, valid_loss=0.3028]\n"
     ]
    },
    {
     "name": "stdout",
     "output_type": "stream",
     "text": [
      "Valid Dice: 0.0345 | Valid Jaccard: 0.0190\n",
      "\n",
      "\n",
      "Epoch 9/18"
     ]
    },
    {
     "name": "stderr",
     "output_type": "stream",
     "text": [
      "Train : 100%|██████████| 24/24 [00:26<00:00,  1.12s/it, gpu_mem=5.15 GB, lr=0.00060, train_loss=0.3938]\n",
      "Valid : 100%|██████████| 6/6 [00:05<00:00,  1.09it/s, gpu_memory=1.96 GB, lr=0.00060, valid_loss=0.3025]\n"
     ]
    },
    {
     "name": "stdout",
     "output_type": "stream",
     "text": [
      "Valid Dice: 0.0404 | Valid Jaccard: 0.0218\n",
      "\n",
      "\n",
      "Epoch 10/18"
     ]
    },
    {
     "name": "stderr",
     "output_type": "stream",
     "text": [
      "Train : 100%|██████████| 24/24 [00:26<00:00,  1.11s/it, gpu_mem=5.16 GB, lr=0.00050, train_loss=0.4100]\n",
      "Valid : 100%|██████████| 6/6 [00:05<00:00,  1.20it/s, gpu_memory=1.91 GB, lr=0.00050, valid_loss=0.3003]\n"
     ]
    },
    {
     "name": "stdout",
     "output_type": "stream",
     "text": [
      "Valid Dice: 0.0470 | Valid Jaccard: 0.0258\n",
      "\n",
      "\n",
      "Epoch 11/18"
     ]
    },
    {
     "name": "stderr",
     "output_type": "stream",
     "text": [
      "Train : 100%|██████████| 24/24 [00:26<00:00,  1.10s/it, gpu_mem=5.15 GB, lr=0.00040, train_loss=0.4085]\n",
      "Valid : 100%|██████████| 6/6 [00:04<00:00,  1.21it/s, gpu_memory=1.96 GB, lr=0.00040, valid_loss=0.2997]\n"
     ]
    },
    {
     "name": "stdout",
     "output_type": "stream",
     "text": [
      "Valid Dice: 0.0366 | Valid Jaccard: 0.0200\n",
      "\n",
      "\n",
      "Epoch 12/18"
     ]
    },
    {
     "name": "stderr",
     "output_type": "stream",
     "text": [
      "Train : 100%|██████████| 24/24 [00:26<00:00,  1.11s/it, gpu_mem=5.16 GB, lr=0.00031, train_loss=0.4081]\n",
      "Valid : 100%|██████████| 6/6 [00:04<00:00,  1.21it/s, gpu_memory=1.91 GB, lr=0.00031, valid_loss=0.2950]\n"
     ]
    },
    {
     "name": "stdout",
     "output_type": "stream",
     "text": [
      "Valid Dice: 0.0402 | Valid Jaccard: 0.0220\n",
      "\n",
      "\n",
      "Epoch 13/18"
     ]
    },
    {
     "name": "stderr",
     "output_type": "stream",
     "text": [
      "Train : 100%|██████████| 24/24 [00:27<00:00,  1.13s/it, gpu_mem=5.15 GB, lr=0.00022, train_loss=0.3976]\n",
      "Valid : 100%|██████████| 6/6 [00:05<00:00,  1.20it/s, gpu_memory=1.96 GB, lr=0.00022, valid_loss=0.2961]\n"
     ]
    },
    {
     "name": "stdout",
     "output_type": "stream",
     "text": [
      "Valid Dice: 0.0397 | Valid Jaccard: 0.0216\n",
      "\n",
      "\n",
      "Epoch 14/18"
     ]
    },
    {
     "name": "stderr",
     "output_type": "stream",
     "text": [
      "Train : 100%|██████████| 24/24 [00:27<00:00,  1.14s/it, gpu_mem=5.16 GB, lr=0.00015, train_loss=0.3928]\n",
      "Valid : 100%|██████████| 6/6 [00:04<00:00,  1.24it/s, gpu_memory=1.91 GB, lr=0.00015, valid_loss=0.2959]\n"
     ]
    },
    {
     "name": "stdout",
     "output_type": "stream",
     "text": [
      "Valid Dice: 0.0446 | Valid Jaccard: 0.0246\n",
      "\n",
      "\n",
      "Epoch 15/18"
     ]
    },
    {
     "name": "stderr",
     "output_type": "stream",
     "text": [
      "Train : 100%|██████████| 24/24 [00:26<00:00,  1.12s/it, gpu_mem=5.15 GB, lr=0.00008, train_loss=0.3963]\n",
      "Valid : 100%|██████████| 6/6 [00:04<00:00,  1.22it/s, gpu_memory=1.95 GB, lr=0.00008, valid_loss=0.2936]\n"
     ]
    },
    {
     "name": "stdout",
     "output_type": "stream",
     "text": [
      "Valid Dice: 0.0377 | Valid Jaccard: 0.0207\n",
      "\n",
      "\n",
      "Epoch 16/18"
     ]
    },
    {
     "name": "stderr",
     "output_type": "stream",
     "text": [
      "Train : 100%|██████████| 24/24 [00:27<00:00,  1.14s/it, gpu_mem=5.16 GB, lr=0.00004, train_loss=0.3998]\n",
      "Valid : 100%|██████████| 6/6 [00:05<00:00,  1.17it/s, gpu_memory=1.91 GB, lr=0.00004, valid_loss=0.2965]\n"
     ]
    },
    {
     "name": "stdout",
     "output_type": "stream",
     "text": [
      "Valid Dice: 0.0462 | Valid Jaccard: 0.0255\n",
      "\n",
      "\n",
      "Epoch 17/18"
     ]
    },
    {
     "name": "stderr",
     "output_type": "stream",
     "text": [
      "Train : 100%|██████████| 24/24 [00:27<00:00,  1.14s/it, gpu_mem=5.15 GB, lr=0.00001, train_loss=0.4031]\n",
      "Valid : 100%|██████████| 6/6 [00:04<00:00,  1.22it/s, gpu_memory=1.96 GB, lr=0.00001, valid_loss=0.2921]\n"
     ]
    },
    {
     "name": "stdout",
     "output_type": "stream",
     "text": [
      "Valid Dice: 0.0416 | Valid Jaccard: 0.0229\n",
      "\n",
      "\n",
      "Epoch 18/18"
     ]
    },
    {
     "name": "stderr",
     "output_type": "stream",
     "text": [
      "Train : 100%|██████████| 24/24 [00:27<00:00,  1.14s/it, gpu_mem=5.16 GB, lr=0.00000, train_loss=0.4072]\n",
      "Valid : 100%|██████████| 6/6 [00:05<00:00,  1.12it/s, gpu_memory=1.91 GB, lr=0.00000, valid_loss=0.2943]\n"
     ]
    },
    {
     "name": "stdout",
     "output_type": "stream",
     "text": [
      "Valid Dice: 0.0421 | Valid Jaccard: 0.0230\n",
      "\n",
      "\n",
      "Training complete in 0h 11m 13s\n",
      "Best Score: 0.0663\n",
      "###############\n",
      "### Fold: 1\n",
      "###############\n",
      "cuda: Tesla P100-PCIE-16GB\n",
      "\n",
      "Epoch 1/18"
     ]
    },
    {
     "name": "stderr",
     "output_type": "stream",
     "text": [
      "Train : 100%|██████████| 24/24 [00:28<00:00,  1.17s/it, gpu_mem=4.95 GB, lr=0.00050, train_loss=0.9076]\n",
      "Valid : 100%|██████████| 6/6 [00:04<00:00,  1.29it/s, gpu_memory=1.83 GB, lr=0.00050, valid_loss=0.4187]\n"
     ]
    },
    {
     "name": "stdout",
     "output_type": "stream",
     "text": [
      "Valid Dice: 0.1098 | Valid Jaccard: 0.0615\n",
      "\u001b[32mValid Score Improved (-inf ---> 0.1098)\n",
      "Model Saved\u001b[0m\n",
      "\n",
      "\n",
      "Epoch 2/18"
     ]
    },
    {
     "name": "stderr",
     "output_type": "stream",
     "text": [
      "Train : 100%|██████████| 24/24 [00:28<00:00,  1.19s/it, gpu_mem=5.15 GB, lr=0.00100, train_loss=0.5125]\n",
      "Valid : 100%|██████████| 6/6 [00:04<00:00,  1.26it/s, gpu_memory=1.94 GB, lr=0.00100, valid_loss=0.3613]\n"
     ]
    },
    {
     "name": "stdout",
     "output_type": "stream",
     "text": [
      "Valid Dice: 0.0596 | Valid Jaccard: 0.0325\n",
      "\n",
      "\n",
      "Epoch 3/18"
     ]
    },
    {
     "name": "stderr",
     "output_type": "stream",
     "text": [
      "Train : 100%|██████████| 24/24 [00:28<00:00,  1.17s/it, gpu_mem=5.17 GB, lr=0.00099, train_loss=0.4752]\n",
      "Valid : 100%|██████████| 6/6 [00:04<00:00,  1.30it/s, gpu_memory=1.94 GB, lr=0.00099, valid_loss=0.3474]\n"
     ]
    },
    {
     "name": "stdout",
     "output_type": "stream",
     "text": [
      "Valid Dice: 0.0351 | Valid Jaccard: 0.0188\n",
      "\n",
      "\n",
      "Epoch 4/18"
     ]
    },
    {
     "name": "stderr",
     "output_type": "stream",
     "text": [
      "Train : 100%|██████████| 24/24 [00:27<00:00,  1.14s/it, gpu_mem=5.15 GB, lr=0.00096, train_loss=0.4371]\n",
      "Valid : 100%|██████████| 6/6 [00:04<00:00,  1.30it/s, gpu_memory=1.95 GB, lr=0.00096, valid_loss=0.3329]\n"
     ]
    },
    {
     "name": "stdout",
     "output_type": "stream",
     "text": [
      "Valid Dice: 0.0550 | Valid Jaccard: 0.0298\n",
      "\n",
      "\n",
      "Epoch 5/18"
     ]
    },
    {
     "name": "stderr",
     "output_type": "stream",
     "text": [
      "Train : 100%|██████████| 24/24 [00:27<00:00,  1.16s/it, gpu_mem=5.18 GB, lr=0.00092, train_loss=0.4238]\n",
      "Valid : 100%|██████████| 6/6 [00:05<00:00,  1.18it/s, gpu_memory=2.01 GB, lr=0.00092, valid_loss=0.3271]\n"
     ]
    },
    {
     "name": "stdout",
     "output_type": "stream",
     "text": [
      "Valid Dice: 0.0581 | Valid Jaccard: 0.0315\n",
      "\n",
      "\n",
      "Epoch 6/18"
     ]
    },
    {
     "name": "stderr",
     "output_type": "stream",
     "text": [
      "Train : 100%|██████████| 24/24 [00:27<00:00,  1.16s/it, gpu_mem=5.16 GB, lr=0.00085, train_loss=0.4228]\n",
      "Valid : 100%|██████████| 6/6 [00:05<00:00,  1.20it/s, gpu_memory=1.95 GB, lr=0.00085, valid_loss=0.3199]\n"
     ]
    },
    {
     "name": "stdout",
     "output_type": "stream",
     "text": [
      "Valid Dice: 0.0582 | Valid Jaccard: 0.0315\n",
      "\n",
      "\n",
      "Epoch 7/18"
     ]
    },
    {
     "name": "stderr",
     "output_type": "stream",
     "text": [
      "Train : 100%|██████████| 24/24 [00:27<00:00,  1.15s/it, gpu_mem=5.18 GB, lr=0.00078, train_loss=0.4126]\n",
      "Valid : 100%|██████████| 6/6 [00:05<00:00,  1.16it/s, gpu_memory=2.01 GB, lr=0.00078, valid_loss=0.3272]\n"
     ]
    },
    {
     "name": "stdout",
     "output_type": "stream",
     "text": [
      "Valid Dice: 0.0329 | Valid Jaccard: 0.0174\n",
      "\n",
      "\n",
      "Epoch 8/18"
     ]
    },
    {
     "name": "stderr",
     "output_type": "stream",
     "text": [
      "Train : 100%|██████████| 24/24 [00:27<00:00,  1.15s/it, gpu_mem=5.16 GB, lr=0.00069, train_loss=0.3920]\n",
      "Valid : 100%|██████████| 6/6 [00:04<00:00,  1.22it/s, gpu_memory=1.95 GB, lr=0.00069, valid_loss=0.3236]\n"
     ]
    },
    {
     "name": "stdout",
     "output_type": "stream",
     "text": [
      "Valid Dice: 0.0394 | Valid Jaccard: 0.0209\n",
      "\n",
      "\n",
      "Epoch 9/18"
     ]
    },
    {
     "name": "stderr",
     "output_type": "stream",
     "text": [
      "Train : 100%|██████████| 24/24 [00:27<00:00,  1.16s/it, gpu_mem=5.18 GB, lr=0.00060, train_loss=0.3918]\n",
      "Valid : 100%|██████████| 6/6 [00:04<00:00,  1.27it/s, gpu_memory=2.01 GB, lr=0.00060, valid_loss=0.3224]\n"
     ]
    },
    {
     "name": "stdout",
     "output_type": "stream",
     "text": [
      "Valid Dice: 0.0348 | Valid Jaccard: 0.0184\n",
      "\n",
      "\n",
      "Epoch 10/18"
     ]
    },
    {
     "name": "stderr",
     "output_type": "stream",
     "text": [
      "Train : 100%|██████████| 24/24 [00:27<00:00,  1.14s/it, gpu_mem=5.16 GB, lr=0.00050, train_loss=0.3978]\n",
      "Valid : 100%|██████████| 6/6 [00:04<00:00,  1.22it/s, gpu_memory=1.95 GB, lr=0.00050, valid_loss=0.3143]\n"
     ]
    },
    {
     "name": "stdout",
     "output_type": "stream",
     "text": [
      "Valid Dice: 0.0458 | Valid Jaccard: 0.0247\n",
      "\n",
      "\n",
      "Epoch 11/18"
     ]
    },
    {
     "name": "stderr",
     "output_type": "stream",
     "text": [
      "Train : 100%|██████████| 24/24 [00:28<00:00,  1.17s/it, gpu_mem=5.18 GB, lr=0.00040, train_loss=0.3893]\n",
      "Valid : 100%|██████████| 6/6 [00:04<00:00,  1.26it/s, gpu_memory=2.01 GB, lr=0.00040, valid_loss=0.3148]\n"
     ]
    },
    {
     "name": "stdout",
     "output_type": "stream",
     "text": [
      "Valid Dice: 0.0364 | Valid Jaccard: 0.0195\n",
      "\n",
      "\n",
      "Epoch 12/18"
     ]
    },
    {
     "name": "stderr",
     "output_type": "stream",
     "text": [
      "Train : 100%|██████████| 24/24 [00:27<00:00,  1.15s/it, gpu_mem=5.16 GB, lr=0.00031, train_loss=0.3848]\n",
      "Valid : 100%|██████████| 6/6 [00:04<00:00,  1.24it/s, gpu_memory=1.95 GB, lr=0.00031, valid_loss=0.3118]\n"
     ]
    },
    {
     "name": "stdout",
     "output_type": "stream",
     "text": [
      "Valid Dice: 0.0414 | Valid Jaccard: 0.0223\n",
      "\n",
      "\n",
      "Epoch 13/18"
     ]
    },
    {
     "name": "stderr",
     "output_type": "stream",
     "text": [
      "Train : 100%|██████████| 24/24 [00:28<00:00,  1.17s/it, gpu_mem=5.18 GB, lr=0.00022, train_loss=0.3811]\n",
      "Valid : 100%|██████████| 6/6 [00:04<00:00,  1.31it/s, gpu_memory=2.01 GB, lr=0.00022, valid_loss=0.3114]\n"
     ]
    },
    {
     "name": "stdout",
     "output_type": "stream",
     "text": [
      "Valid Dice: 0.0332 | Valid Jaccard: 0.0174\n",
      "\n",
      "\n",
      "Epoch 14/18"
     ]
    },
    {
     "name": "stderr",
     "output_type": "stream",
     "text": [
      "Train : 100%|██████████| 24/24 [00:28<00:00,  1.17s/it, gpu_mem=5.16 GB, lr=0.00015, train_loss=0.3885]\n",
      "Valid : 100%|██████████| 6/6 [00:04<00:00,  1.29it/s, gpu_memory=1.95 GB, lr=0.00015, valid_loss=0.3138]\n"
     ]
    },
    {
     "name": "stdout",
     "output_type": "stream",
     "text": [
      "Valid Dice: 0.0350 | Valid Jaccard: 0.0184\n",
      "\n",
      "\n",
      "Epoch 15/18"
     ]
    },
    {
     "name": "stderr",
     "output_type": "stream",
     "text": [
      "Train : 100%|██████████| 24/24 [00:28<00:00,  1.17s/it, gpu_mem=5.18 GB, lr=0.00008, train_loss=0.3764]\n",
      "Valid : 100%|██████████| 6/6 [00:04<00:00,  1.26it/s, gpu_memory=2.01 GB, lr=0.00008, valid_loss=0.3113]\n"
     ]
    },
    {
     "name": "stdout",
     "output_type": "stream",
     "text": [
      "Valid Dice: 0.0366 | Valid Jaccard: 0.0194\n",
      "\n",
      "\n",
      "Epoch 16/18"
     ]
    },
    {
     "name": "stderr",
     "output_type": "stream",
     "text": [
      "Train : 100%|██████████| 24/24 [00:27<00:00,  1.16s/it, gpu_mem=5.16 GB, lr=0.00004, train_loss=0.3729]\n",
      "Valid : 100%|██████████| 6/6 [00:04<00:00,  1.20it/s, gpu_memory=1.95 GB, lr=0.00004, valid_loss=0.3115]\n"
     ]
    },
    {
     "name": "stdout",
     "output_type": "stream",
     "text": [
      "Valid Dice: 0.0409 | Valid Jaccard: 0.0221\n",
      "\n",
      "\n",
      "Epoch 17/18"
     ]
    },
    {
     "name": "stderr",
     "output_type": "stream",
     "text": [
      "Train : 100%|██████████| 24/24 [00:27<00:00,  1.16s/it, gpu_mem=5.18 GB, lr=0.00001, train_loss=0.3827]\n",
      "Valid : 100%|██████████| 6/6 [00:05<00:00,  1.19it/s, gpu_memory=2.01 GB, lr=0.00001, valid_loss=0.3100]\n"
     ]
    },
    {
     "name": "stdout",
     "output_type": "stream",
     "text": [
      "Valid Dice: 0.0436 | Valid Jaccard: 0.0236\n",
      "\n",
      "\n",
      "Epoch 18/18"
     ]
    },
    {
     "name": "stderr",
     "output_type": "stream",
     "text": [
      "Train : 100%|██████████| 24/24 [00:27<00:00,  1.14s/it, gpu_mem=5.16 GB, lr=0.00000, train_loss=0.3845]\n",
      "Valid : 100%|██████████| 6/6 [00:04<00:00,  1.20it/s, gpu_memory=1.95 GB, lr=0.00000, valid_loss=0.3097]\n"
     ]
    },
    {
     "name": "stdout",
     "output_type": "stream",
     "text": [
      "Valid Dice: 0.0416 | Valid Jaccard: 0.0223\n",
      "\n",
      "\n",
      "Training complete in 0h 10m 13s\n",
      "Best Score: 0.1098\n",
      "###############\n",
      "### Fold: 2\n",
      "###############\n",
      "cuda: Tesla P100-PCIE-16GB\n",
      "\n",
      "Epoch 1/18"
     ]
    },
    {
     "name": "stderr",
     "output_type": "stream",
     "text": [
      "Train : 100%|██████████| 24/24 [00:28<00:00,  1.19s/it, gpu_mem=4.95 GB, lr=0.00050, train_loss=0.6111]\n",
      "Valid : 100%|██████████| 6/6 [00:04<00:00,  1.24it/s, gpu_memory=1.89 GB, lr=0.00050, valid_loss=0.3763]\n"
     ]
    },
    {
     "name": "stdout",
     "output_type": "stream",
     "text": [
      "Valid Dice: 0.0500 | Valid Jaccard: 0.0266\n",
      "\u001b[32mValid Score Improved (-inf ---> 0.0500)\n",
      "Model Saved\u001b[0m\n",
      "\n",
      "\n",
      "Epoch 2/18"
     ]
    },
    {
     "name": "stderr",
     "output_type": "stream",
     "text": [
      "Train : 100%|██████████| 24/24 [00:28<00:00,  1.17s/it, gpu_mem=5.14 GB, lr=0.00100, train_loss=0.4773]\n",
      "Valid : 100%|██████████| 6/6 [00:05<00:00,  1.15it/s, gpu_memory=1.87 GB, lr=0.00100, valid_loss=0.3463]\n"
     ]
    },
    {
     "name": "stdout",
     "output_type": "stream",
     "text": [
      "Valid Dice: 0.0362 | Valid Jaccard: 0.0191\n",
      "\n",
      "\n",
      "Epoch 3/18"
     ]
    },
    {
     "name": "stderr",
     "output_type": "stream",
     "text": [
      "Train : 100%|██████████| 24/24 [00:27<00:00,  1.15s/it, gpu_mem=5.17 GB, lr=0.00099, train_loss=0.4243]\n",
      "Valid : 100%|██████████| 6/6 [00:05<00:00,  1.15it/s, gpu_memory=1.95 GB, lr=0.00099, valid_loss=0.3360]\n"
     ]
    },
    {
     "name": "stdout",
     "output_type": "stream",
     "text": [
      "Valid Dice: 0.0272 | Valid Jaccard: 0.0143\n",
      "\n",
      "\n",
      "Epoch 4/18"
     ]
    },
    {
     "name": "stderr",
     "output_type": "stream",
     "text": [
      "Train : 100%|██████████| 24/24 [00:27<00:00,  1.16s/it, gpu_mem=5.15 GB, lr=0.00096, train_loss=0.4194]\n",
      "Valid : 100%|██████████| 6/6 [00:05<00:00,  1.18it/s, gpu_memory=1.92 GB, lr=0.00096, valid_loss=0.3259]\n"
     ]
    },
    {
     "name": "stdout",
     "output_type": "stream",
     "text": [
      "Valid Dice: 0.0313 | Valid Jaccard: 0.0166\n",
      "\n",
      "\n",
      "Epoch 5/18"
     ]
    },
    {
     "name": "stderr",
     "output_type": "stream",
     "text": [
      "Train : 100%|██████████| 24/24 [00:27<00:00,  1.16s/it, gpu_mem=5.18 GB, lr=0.00092, train_loss=0.4113]\n",
      "Valid : 100%|██████████| 6/6 [00:04<00:00,  1.21it/s, gpu_memory=1.95 GB, lr=0.00092, valid_loss=0.3173]\n"
     ]
    },
    {
     "name": "stdout",
     "output_type": "stream",
     "text": [
      "Valid Dice: 0.0277 | Valid Jaccard: 0.0147\n",
      "\n",
      "\n",
      "Epoch 6/18"
     ]
    },
    {
     "name": "stderr",
     "output_type": "stream",
     "text": [
      "Train : 100%|██████████| 24/24 [00:27<00:00,  1.16s/it, gpu_mem=5.15 GB, lr=0.00085, train_loss=0.4160]\n",
      "Valid : 100%|██████████| 6/6 [00:05<00:00,  1.19it/s, gpu_memory=1.92 GB, lr=0.00085, valid_loss=0.3122]\n"
     ]
    },
    {
     "name": "stdout",
     "output_type": "stream",
     "text": [
      "Valid Dice: 0.0409 | Valid Jaccard: 0.0218\n",
      "\n",
      "\n",
      "Epoch 7/18"
     ]
    },
    {
     "name": "stderr",
     "output_type": "stream",
     "text": [
      "Train : 100%|██████████| 24/24 [00:27<00:00,  1.16s/it, gpu_mem=5.17 GB, lr=0.00078, train_loss=0.3904]\n",
      "Valid : 100%|██████████| 6/6 [00:05<00:00,  1.19it/s, gpu_memory=1.95 GB, lr=0.00078, valid_loss=0.3107]\n"
     ]
    },
    {
     "name": "stdout",
     "output_type": "stream",
     "text": [
      "Valid Dice: 0.0378 | Valid Jaccard: 0.0200\n",
      "\n",
      "\n",
      "Epoch 8/18"
     ]
    },
    {
     "name": "stderr",
     "output_type": "stream",
     "text": [
      "Train : 100%|██████████| 24/24 [00:28<00:00,  1.17s/it, gpu_mem=5.15 GB, lr=0.00069, train_loss=0.3965]\n",
      "Valid : 100%|██████████| 6/6 [00:04<00:00,  1.25it/s, gpu_memory=1.90 GB, lr=0.00069, valid_loss=0.3059]\n"
     ]
    },
    {
     "name": "stdout",
     "output_type": "stream",
     "text": [
      "Valid Dice: 0.0411 | Valid Jaccard: 0.0219\n",
      "\n",
      "\n",
      "Epoch 9/18"
     ]
    },
    {
     "name": "stderr",
     "output_type": "stream",
     "text": [
      "Train : 100%|██████████| 24/24 [00:27<00:00,  1.15s/it, gpu_mem=5.17 GB, lr=0.00060, train_loss=0.3671]\n",
      "Valid : 100%|██████████| 6/6 [00:04<00:00,  1.27it/s, gpu_memory=1.95 GB, lr=0.00060, valid_loss=0.3044]\n"
     ]
    },
    {
     "name": "stdout",
     "output_type": "stream",
     "text": [
      "Valid Dice: 0.0354 | Valid Jaccard: 0.0189\n",
      "\n",
      "\n",
      "Epoch 10/18"
     ]
    },
    {
     "name": "stderr",
     "output_type": "stream",
     "text": [
      "Train : 100%|██████████| 24/24 [00:28<00:00,  1.18s/it, gpu_mem=5.15 GB, lr=0.00050, train_loss=0.3703]\n",
      "Valid : 100%|██████████| 6/6 [00:04<00:00,  1.26it/s, gpu_memory=1.90 GB, lr=0.00050, valid_loss=0.3040]\n"
     ]
    },
    {
     "name": "stdout",
     "output_type": "stream",
     "text": [
      "Valid Dice: 0.0433 | Valid Jaccard: 0.0232\n",
      "\n",
      "\n",
      "Epoch 11/18"
     ]
    },
    {
     "name": "stderr",
     "output_type": "stream",
     "text": [
      "Train : 100%|██████████| 24/24 [00:28<00:00,  1.19s/it, gpu_mem=5.18 GB, lr=0.00040, train_loss=0.3836]\n",
      "Valid : 100%|██████████| 6/6 [00:04<00:00,  1.25it/s, gpu_memory=1.95 GB, lr=0.00040, valid_loss=0.2997]\n"
     ]
    },
    {
     "name": "stdout",
     "output_type": "stream",
     "text": [
      "Valid Dice: 0.0345 | Valid Jaccard: 0.0184\n",
      "\n",
      "\n",
      "Epoch 12/18"
     ]
    },
    {
     "name": "stderr",
     "output_type": "stream",
     "text": [
      "Train : 100%|██████████| 24/24 [00:28<00:00,  1.18s/it, gpu_mem=5.15 GB, lr=0.00031, train_loss=0.3934]\n",
      "Valid : 100%|██████████| 6/6 [00:04<00:00,  1.29it/s, gpu_memory=1.90 GB, lr=0.00031, valid_loss=0.2982]\n"
     ]
    },
    {
     "name": "stdout",
     "output_type": "stream",
     "text": [
      "Valid Dice: 0.0365 | Valid Jaccard: 0.0195\n",
      "\n",
      "\n",
      "Epoch 13/18"
     ]
    },
    {
     "name": "stderr",
     "output_type": "stream",
     "text": [
      "Train : 100%|██████████| 24/24 [00:27<00:00,  1.16s/it, gpu_mem=5.18 GB, lr=0.00022, train_loss=0.3751]\n",
      "Valid : 100%|██████████| 6/6 [00:05<00:00,  1.16it/s, gpu_memory=1.95 GB, lr=0.00022, valid_loss=0.2984]\n"
     ]
    },
    {
     "name": "stdout",
     "output_type": "stream",
     "text": [
      "Valid Dice: 0.0414 | Valid Jaccard: 0.0222\n",
      "\n",
      "\n",
      "Epoch 14/18"
     ]
    },
    {
     "name": "stderr",
     "output_type": "stream",
     "text": [
      "Train : 100%|██████████| 24/24 [00:28<00:00,  1.17s/it, gpu_mem=5.15 GB, lr=0.00015, train_loss=0.3777]\n",
      "Valid : 100%|██████████| 6/6 [00:04<00:00,  1.20it/s, gpu_memory=1.90 GB, lr=0.00015, valid_loss=0.2993]\n"
     ]
    },
    {
     "name": "stdout",
     "output_type": "stream",
     "text": [
      "Valid Dice: 0.0354 | Valid Jaccard: 0.0190\n",
      "\n",
      "\n",
      "Epoch 15/18"
     ]
    },
    {
     "name": "stderr",
     "output_type": "stream",
     "text": [
      "Train : 100%|██████████| 24/24 [00:27<00:00,  1.16s/it, gpu_mem=5.18 GB, lr=0.00008, train_loss=0.3745]\n",
      "Valid : 100%|██████████| 6/6 [00:05<00:00,  1.17it/s, gpu_memory=1.95 GB, lr=0.00008, valid_loss=0.2978]\n"
     ]
    },
    {
     "name": "stdout",
     "output_type": "stream",
     "text": [
      "Valid Dice: 0.0371 | Valid Jaccard: 0.0198\n",
      "\n",
      "\n",
      "Epoch 16/18"
     ]
    },
    {
     "name": "stderr",
     "output_type": "stream",
     "text": [
      "Train : 100%|██████████| 24/24 [00:28<00:00,  1.18s/it, gpu_mem=5.15 GB, lr=0.00004, train_loss=0.3736]\n",
      "Valid : 100%|██████████| 6/6 [00:04<00:00,  1.28it/s, gpu_memory=1.90 GB, lr=0.00004, valid_loss=0.2951]\n"
     ]
    },
    {
     "name": "stdout",
     "output_type": "stream",
     "text": [
      "Valid Dice: 0.0359 | Valid Jaccard: 0.0192\n",
      "\n",
      "\n",
      "Epoch 17/18"
     ]
    },
    {
     "name": "stderr",
     "output_type": "stream",
     "text": [
      "Train : 100%|██████████| 24/24 [00:27<00:00,  1.16s/it, gpu_mem=5.18 GB, lr=0.00001, train_loss=0.3941]\n",
      "Valid : 100%|██████████| 6/6 [00:04<00:00,  1.27it/s, gpu_memory=1.95 GB, lr=0.00001, valid_loss=0.2973]\n"
     ]
    },
    {
     "name": "stdout",
     "output_type": "stream",
     "text": [
      "Valid Dice: 0.0380 | Valid Jaccard: 0.0203\n",
      "\n",
      "\n",
      "Epoch 18/18"
     ]
    },
    {
     "name": "stderr",
     "output_type": "stream",
     "text": [
      "Train : 100%|██████████| 24/24 [00:28<00:00,  1.18s/it, gpu_mem=5.15 GB, lr=0.00000, train_loss=0.3699]\n",
      "Valid : 100%|██████████| 6/6 [00:04<00:00,  1.26it/s, gpu_memory=1.90 GB, lr=0.00000, valid_loss=0.2966]\n"
     ]
    },
    {
     "name": "stdout",
     "output_type": "stream",
     "text": [
      "Valid Dice: 0.0348 | Valid Jaccard: 0.0185\n",
      "\n",
      "\n",
      "Training complete in 0h 10m 19s\n",
      "Best Score: 0.0500\n",
      "###############\n",
      "### Fold: 3\n",
      "###############\n",
      "cuda: Tesla P100-PCIE-16GB\n",
      "\n",
      "Epoch 1/18"
     ]
    },
    {
     "name": "stderr",
     "output_type": "stream",
     "text": [
      "Train : 100%|██████████| 24/24 [00:27<00:00,  1.17s/it, gpu_mem=4.95 GB, lr=0.00050, train_loss=0.5460]\n",
      "Valid : 100%|██████████| 6/6 [00:05<00:00,  1.12it/s, gpu_memory=1.91 GB, lr=0.00050, valid_loss=0.4115]\n"
     ]
    },
    {
     "name": "stdout",
     "output_type": "stream",
     "text": [
      "Valid Dice: 0.0256 | Valid Jaccard: 0.0138\n",
      "\u001b[32mValid Score Improved (-inf ---> 0.0256)\n",
      "Model Saved\u001b[0m\n",
      "\n",
      "\n",
      "Epoch 2/18"
     ]
    },
    {
     "name": "stderr",
     "output_type": "stream",
     "text": [
      "Train : 100%|██████████| 24/24 [00:27<00:00,  1.16s/it, gpu_mem=5.15 GB, lr=0.00100, train_loss=0.4708]\n",
      "Valid : 100%|██████████| 6/6 [00:05<00:00,  1.04it/s, gpu_memory=1.88 GB, lr=0.00100, valid_loss=0.4292]\n"
     ]
    },
    {
     "name": "stdout",
     "output_type": "stream",
     "text": [
      "Valid Dice: 0.0157 | Valid Jaccard: 0.0081\n",
      "\n",
      "\n",
      "Epoch 3/18"
     ]
    },
    {
     "name": "stderr",
     "output_type": "stream",
     "text": [
      "Train : 100%|██████████| 24/24 [00:27<00:00,  1.16s/it, gpu_mem=5.18 GB, lr=0.00099, train_loss=0.4269]\n",
      "Valid : 100%|██████████| 6/6 [00:05<00:00,  1.17it/s, gpu_memory=1.95 GB, lr=0.00099, valid_loss=0.3976]\n"
     ]
    },
    {
     "name": "stdout",
     "output_type": "stream",
     "text": [
      "Valid Dice: 0.0379 | Valid Jaccard: 0.0205\n",
      "\u001b[32mValid Score Improved (0.0256 ---> 0.0379)\n",
      "Model Saved\u001b[0m\n",
      "\n",
      "\n",
      "Epoch 4/18"
     ]
    },
    {
     "name": "stderr",
     "output_type": "stream",
     "text": [
      "Train : 100%|██████████| 24/24 [00:28<00:00,  1.21s/it, gpu_mem=5.16 GB, lr=0.00096, train_loss=0.4201]\n",
      "Valid : 100%|██████████| 6/6 [00:04<00:00,  1.21it/s, gpu_memory=1.91 GB, lr=0.00096, valid_loss=0.3935]\n"
     ]
    },
    {
     "name": "stdout",
     "output_type": "stream",
     "text": [
      "Valid Dice: 0.0294 | Valid Jaccard: 0.0157\n",
      "\n",
      "\n",
      "Epoch 5/18"
     ]
    },
    {
     "name": "stderr",
     "output_type": "stream",
     "text": [
      "Train : 100%|██████████| 24/24 [00:28<00:00,  1.18s/it, gpu_mem=5.17 GB, lr=0.00092, train_loss=0.4282]\n",
      "Valid : 100%|██████████| 6/6 [00:04<00:00,  1.24it/s, gpu_memory=1.94 GB, lr=0.00092, valid_loss=0.3774]\n"
     ]
    },
    {
     "name": "stdout",
     "output_type": "stream",
     "text": [
      "Valid Dice: 0.0370 | Valid Jaccard: 0.0200\n",
      "\n",
      "\n",
      "Epoch 6/18"
     ]
    },
    {
     "name": "stderr",
     "output_type": "stream",
     "text": [
      "Train : 100%|██████████| 24/24 [00:28<00:00,  1.20s/it, gpu_mem=5.16 GB, lr=0.00085, train_loss=0.4364]\n",
      "Valid : 100%|██████████| 6/6 [00:04<00:00,  1.27it/s, gpu_memory=1.91 GB, lr=0.00085, valid_loss=0.3698]\n"
     ]
    },
    {
     "name": "stdout",
     "output_type": "stream",
     "text": [
      "Valid Dice: 0.0333 | Valid Jaccard: 0.0177\n",
      "\n",
      "\n",
      "Epoch 7/18"
     ]
    },
    {
     "name": "stderr",
     "output_type": "stream",
     "text": [
      "Train : 100%|██████████| 24/24 [00:28<00:00,  1.17s/it, gpu_mem=5.18 GB, lr=0.00078, train_loss=0.3949]\n",
      "Valid : 100%|██████████| 6/6 [00:04<00:00,  1.28it/s, gpu_memory=1.95 GB, lr=0.00078, valid_loss=0.3827]\n"
     ]
    },
    {
     "name": "stdout",
     "output_type": "stream",
     "text": [
      "Valid Dice: 0.0186 | Valid Jaccard: 0.0097\n",
      "\n",
      "\n",
      "Epoch 8/18"
     ]
    },
    {
     "name": "stderr",
     "output_type": "stream",
     "text": [
      "Train : 100%|██████████| 24/24 [00:28<00:00,  1.19s/it, gpu_mem=5.16 GB, lr=0.00069, train_loss=0.3927]\n",
      "Valid : 100%|██████████| 6/6 [00:04<00:00,  1.20it/s, gpu_memory=1.91 GB, lr=0.00069, valid_loss=0.3682]\n"
     ]
    },
    {
     "name": "stdout",
     "output_type": "stream",
     "text": [
      "Valid Dice: 0.0236 | Valid Jaccard: 0.0124\n",
      "\n",
      "\n",
      "Epoch 9/18"
     ]
    },
    {
     "name": "stderr",
     "output_type": "stream",
     "text": [
      "Train : 100%|██████████| 24/24 [00:28<00:00,  1.20s/it, gpu_mem=5.18 GB, lr=0.00060, train_loss=0.3881]\n",
      "Valid : 100%|██████████| 6/6 [00:05<00:00,  1.18it/s, gpu_memory=2.03 GB, lr=0.00060, valid_loss=0.3597]\n"
     ]
    },
    {
     "name": "stdout",
     "output_type": "stream",
     "text": [
      "Valid Dice: 0.0294 | Valid Jaccard: 0.0155\n",
      "\n",
      "\n",
      "Epoch 10/18"
     ]
    },
    {
     "name": "stderr",
     "output_type": "stream",
     "text": [
      "Train : 100%|██████████| 24/24 [00:28<00:00,  1.17s/it, gpu_mem=5.16 GB, lr=0.00050, train_loss=0.3822]\n",
      "Valid : 100%|██████████| 6/6 [00:05<00:00,  1.18it/s, gpu_memory=1.91 GB, lr=0.00050, valid_loss=0.3562]\n"
     ]
    },
    {
     "name": "stdout",
     "output_type": "stream",
     "text": [
      "Valid Dice: 0.0326 | Valid Jaccard: 0.0172\n",
      "\n",
      "\n",
      "Epoch 11/18"
     ]
    },
    {
     "name": "stderr",
     "output_type": "stream",
     "text": [
      "Train : 100%|██████████| 24/24 [00:28<00:00,  1.17s/it, gpu_mem=5.18 GB, lr=0.00040, train_loss=0.3825]\n",
      "Valid : 100%|██████████| 6/6 [00:04<00:00,  1.26it/s, gpu_memory=1.97 GB, lr=0.00040, valid_loss=0.3547]\n"
     ]
    },
    {
     "name": "stdout",
     "output_type": "stream",
     "text": [
      "Valid Dice: 0.0318 | Valid Jaccard: 0.0168\n",
      "\n",
      "\n",
      "Epoch 12/18"
     ]
    },
    {
     "name": "stderr",
     "output_type": "stream",
     "text": [
      "Train : 100%|██████████| 24/24 [00:28<00:00,  1.19s/it, gpu_mem=5.16 GB, lr=0.00031, train_loss=0.3824]\n",
      "Valid : 100%|██████████| 6/6 [00:04<00:00,  1.26it/s, gpu_memory=1.94 GB, lr=0.00031, valid_loss=0.3503]\n"
     ]
    },
    {
     "name": "stdout",
     "output_type": "stream",
     "text": [
      "Valid Dice: 0.0329 | Valid Jaccard: 0.0174\n",
      "\n",
      "\n",
      "Epoch 13/18"
     ]
    },
    {
     "name": "stderr",
     "output_type": "stream",
     "text": [
      "Train : 100%|██████████| 24/24 [00:28<00:00,  1.18s/it, gpu_mem=5.19 GB, lr=0.00022, train_loss=0.3841]\n",
      "Valid : 100%|██████████| 6/6 [00:04<00:00,  1.25it/s, gpu_memory=1.98 GB, lr=0.00022, valid_loss=0.3506]\n"
     ]
    },
    {
     "name": "stdout",
     "output_type": "stream",
     "text": [
      "Valid Dice: 0.0381 | Valid Jaccard: 0.0203\n",
      "\u001b[32mValid Score Improved (0.0379 ---> 0.0381)\n",
      "Model Saved\u001b[0m\n",
      "\n",
      "\n",
      "Epoch 14/18"
     ]
    },
    {
     "name": "stderr",
     "output_type": "stream",
     "text": [
      "Train : 100%|██████████| 24/24 [00:28<00:00,  1.18s/it, gpu_mem=5.17 GB, lr=0.00015, train_loss=0.3822]\n",
      "Valid : 100%|██████████| 6/6 [00:04<00:00,  1.21it/s, gpu_memory=1.94 GB, lr=0.00015, valid_loss=0.3505]\n"
     ]
    },
    {
     "name": "stdout",
     "output_type": "stream",
     "text": [
      "Valid Dice: 0.0294 | Valid Jaccard: 0.0156\n",
      "\n",
      "\n",
      "Epoch 15/18"
     ]
    },
    {
     "name": "stderr",
     "output_type": "stream",
     "text": [
      "Train : 100%|██████████| 24/24 [00:27<00:00,  1.15s/it, gpu_mem=5.19 GB, lr=0.00008, train_loss=0.3764]\n",
      "Valid : 100%|██████████| 6/6 [00:05<00:00,  1.14it/s, gpu_memory=1.95 GB, lr=0.00008, valid_loss=0.3538]\n"
     ]
    },
    {
     "name": "stdout",
     "output_type": "stream",
     "text": [
      "Valid Dice: 0.0288 | Valid Jaccard: 0.0152\n",
      "\n",
      "\n",
      "Epoch 16/18"
     ]
    },
    {
     "name": "stderr",
     "output_type": "stream",
     "text": [
      "Train : 100%|██████████| 24/24 [00:28<00:00,  1.17s/it, gpu_mem=5.18 GB, lr=0.00004, train_loss=0.3889]\n",
      "Valid : 100%|██████████| 6/6 [00:04<00:00,  1.21it/s, gpu_memory=1.95 GB, lr=0.00004, valid_loss=0.3487]\n"
     ]
    },
    {
     "name": "stdout",
     "output_type": "stream",
     "text": [
      "Valid Dice: 0.0289 | Valid Jaccard: 0.0152\n",
      "\n",
      "\n",
      "Epoch 17/18"
     ]
    },
    {
     "name": "stderr",
     "output_type": "stream",
     "text": [
      "Train : 100%|██████████| 24/24 [00:27<00:00,  1.17s/it, gpu_mem=5.20 GB, lr=0.00001, train_loss=0.3652]\n",
      "Valid : 100%|██████████| 6/6 [00:04<00:00,  1.22it/s, gpu_memory=1.96 GB, lr=0.00001, valid_loss=0.3476]\n"
     ]
    },
    {
     "name": "stdout",
     "output_type": "stream",
     "text": [
      "Valid Dice: 0.0312 | Valid Jaccard: 0.0167\n",
      "\n",
      "\n",
      "Epoch 18/18"
     ]
    },
    {
     "name": "stderr",
     "output_type": "stream",
     "text": [
      "Train : 100%|██████████| 24/24 [00:28<00:00,  1.19s/it, gpu_mem=5.19 GB, lr=0.00000, train_loss=0.3830]\n",
      "Valid : 100%|██████████| 6/6 [00:04<00:00,  1.25it/s, gpu_memory=2.04 GB, lr=0.00000, valid_loss=0.3466]\n"
     ]
    },
    {
     "name": "stdout",
     "output_type": "stream",
     "text": [
      "Valid Dice: 0.0321 | Valid Jaccard: 0.0171\n",
      "\n",
      "\n",
      "Training complete in 0h 10m 25s\n",
      "Best Score: 0.0381\n",
      "###############\n",
      "### Fold: 4\n",
      "###############\n",
      "cuda: Tesla P100-PCIE-16GB\n",
      "\n",
      "Epoch 1/18"
     ]
    },
    {
     "name": "stderr",
     "output_type": "stream",
     "text": [
      "Train : 100%|██████████| 24/24 [00:28<00:00,  1.18s/it, gpu_mem=4.94 GB, lr=0.00050, train_loss=0.6312]\n",
      "Valid : 100%|██████████| 6/6 [00:04<00:00,  1.24it/s, gpu_memory=1.86 GB, lr=0.00050, valid_loss=0.3788]\n"
     ]
    },
    {
     "name": "stdout",
     "output_type": "stream",
     "text": [
      "Valid Dice: 0.0700 | Valid Jaccard: 0.0389\n",
      "\u001b[32mValid Score Improved (-inf ---> 0.0700)\n",
      "Model Saved\u001b[0m\n",
      "\n",
      "\n",
      "Epoch 2/18"
     ]
    },
    {
     "name": "stderr",
     "output_type": "stream",
     "text": [
      "Train : 100%|██████████| 24/24 [00:28<00:00,  1.20s/it, gpu_mem=5.15 GB, lr=0.00100, train_loss=0.4659]\n",
      "Valid : 100%|██████████| 6/6 [00:05<00:00,  1.16it/s, gpu_memory=1.87 GB, lr=0.00100, valid_loss=0.3748]\n"
     ]
    },
    {
     "name": "stdout",
     "output_type": "stream",
     "text": [
      "Valid Dice: 0.0346 | Valid Jaccard: 0.0195\n",
      "\n",
      "\n",
      "Epoch 3/18"
     ]
    },
    {
     "name": "stderr",
     "output_type": "stream",
     "text": [
      "Train : 100%|██████████| 24/24 [00:28<00:00,  1.19s/it, gpu_mem=5.18 GB, lr=0.00099, train_loss=0.4051]\n",
      "Valid : 100%|██████████| 6/6 [00:05<00:00,  1.15it/s, gpu_memory=1.95 GB, lr=0.00099, valid_loss=0.3691]\n"
     ]
    },
    {
     "name": "stdout",
     "output_type": "stream",
     "text": [
      "Valid Dice: 0.0261 | Valid Jaccard: 0.0141\n",
      "\n",
      "\n",
      "Epoch 4/18"
     ]
    },
    {
     "name": "stderr",
     "output_type": "stream",
     "text": [
      "Train : 100%|██████████| 24/24 [00:27<00:00,  1.17s/it, gpu_mem=5.15 GB, lr=0.00096, train_loss=0.3926]\n",
      "Valid : 100%|██████████| 6/6 [00:05<00:00,  1.03it/s, gpu_memory=1.87 GB, lr=0.00096, valid_loss=0.3479]\n"
     ]
    },
    {
     "name": "stdout",
     "output_type": "stream",
     "text": [
      "Valid Dice: 0.0518 | Valid Jaccard: 0.0286\n",
      "\n",
      "\n",
      "Epoch 5/18"
     ]
    },
    {
     "name": "stderr",
     "output_type": "stream",
     "text": [
      "Train : 100%|██████████| 24/24 [00:27<00:00,  1.15s/it, gpu_mem=5.18 GB, lr=0.00092, train_loss=0.3922]\n",
      "Valid : 100%|██████████| 6/6 [00:05<00:00,  1.10it/s, gpu_memory=1.95 GB, lr=0.00092, valid_loss=0.3414]\n"
     ]
    },
    {
     "name": "stdout",
     "output_type": "stream",
     "text": [
      "Valid Dice: 0.0563 | Valid Jaccard: 0.0313\n",
      "\n",
      "\n",
      "Epoch 6/18"
     ]
    },
    {
     "name": "stderr",
     "output_type": "stream",
     "text": [
      "Train : 100%|██████████| 24/24 [00:28<00:00,  1.18s/it, gpu_mem=5.15 GB, lr=0.00085, train_loss=0.3772]\n",
      "Valid : 100%|██████████| 6/6 [00:05<00:00,  1.15it/s, gpu_memory=1.87 GB, lr=0.00085, valid_loss=0.3410]\n"
     ]
    },
    {
     "name": "stdout",
     "output_type": "stream",
     "text": [
      "Valid Dice: 0.0528 | Valid Jaccard: 0.0295\n",
      "\n",
      "\n",
      "Epoch 7/18"
     ]
    },
    {
     "name": "stderr",
     "output_type": "stream",
     "text": [
      "Train : 100%|██████████| 24/24 [00:28<00:00,  1.19s/it, gpu_mem=5.18 GB, lr=0.00078, train_loss=0.3763]\n",
      "Valid : 100%|██████████| 6/6 [00:04<00:00,  1.27it/s, gpu_memory=1.95 GB, lr=0.00078, valid_loss=0.3352]\n"
     ]
    },
    {
     "name": "stdout",
     "output_type": "stream",
     "text": [
      "Valid Dice: 0.0499 | Valid Jaccard: 0.0277\n",
      "\n",
      "\n",
      "Epoch 8/18"
     ]
    },
    {
     "name": "stderr",
     "output_type": "stream",
     "text": [
      "Train : 100%|██████████| 24/24 [00:28<00:00,  1.17s/it, gpu_mem=5.15 GB, lr=0.00069, train_loss=0.3657]\n",
      "Valid : 100%|██████████| 6/6 [00:05<00:00,  1.19it/s, gpu_memory=1.87 GB, lr=0.00069, valid_loss=0.3370]\n"
     ]
    },
    {
     "name": "stdout",
     "output_type": "stream",
     "text": [
      "Valid Dice: 0.0372 | Valid Jaccard: 0.0204\n",
      "\n",
      "\n",
      "Epoch 9/18"
     ]
    },
    {
     "name": "stderr",
     "output_type": "stream",
     "text": [
      "Train : 100%|██████████| 24/24 [00:28<00:00,  1.18s/it, gpu_mem=5.18 GB, lr=0.00060, train_loss=0.3627]\n",
      "Valid : 100%|██████████| 6/6 [00:05<00:00,  1.16it/s, gpu_memory=1.95 GB, lr=0.00060, valid_loss=0.3368]\n"
     ]
    },
    {
     "name": "stdout",
     "output_type": "stream",
     "text": [
      "Valid Dice: 0.0340 | Valid Jaccard: 0.0186\n",
      "\n",
      "\n",
      "Epoch 10/18"
     ]
    },
    {
     "name": "stderr",
     "output_type": "stream",
     "text": [
      "Train : 100%|██████████| 24/24 [00:28<00:00,  1.18s/it, gpu_mem=5.15 GB, lr=0.00050, train_loss=0.3720]\n",
      "Valid : 100%|██████████| 6/6 [00:05<00:00,  1.16it/s, gpu_memory=1.87 GB, lr=0.00050, valid_loss=0.3294]\n"
     ]
    },
    {
     "name": "stdout",
     "output_type": "stream",
     "text": [
      "Valid Dice: 0.0396 | Valid Jaccard: 0.0219\n",
      "\n",
      "\n",
      "Epoch 11/18"
     ]
    },
    {
     "name": "stderr",
     "output_type": "stream",
     "text": [
      "Train : 100%|██████████| 24/24 [00:28<00:00,  1.17s/it, gpu_mem=5.18 GB, lr=0.00040, train_loss=0.3637]\n",
      "Valid : 100%|██████████| 6/6 [00:04<00:00,  1.24it/s, gpu_memory=1.95 GB, lr=0.00040, valid_loss=0.3324]\n"
     ]
    },
    {
     "name": "stdout",
     "output_type": "stream",
     "text": [
      "Valid Dice: 0.0391 | Valid Jaccard: 0.0216\n",
      "\n",
      "\n",
      "Epoch 12/18"
     ]
    },
    {
     "name": "stderr",
     "output_type": "stream",
     "text": [
      "Train : 100%|██████████| 24/24 [00:28<00:00,  1.19s/it, gpu_mem=5.15 GB, lr=0.00031, train_loss=0.3563]\n",
      "Valid : 100%|██████████| 6/6 [00:04<00:00,  1.24it/s, gpu_memory=1.87 GB, lr=0.00031, valid_loss=0.3307]\n"
     ]
    },
    {
     "name": "stdout",
     "output_type": "stream",
     "text": [
      "Valid Dice: 0.0436 | Valid Jaccard: 0.0242\n",
      "\n",
      "\n",
      "Epoch 13/18"
     ]
    },
    {
     "name": "stderr",
     "output_type": "stream",
     "text": [
      "Train : 100%|██████████| 24/24 [00:27<00:00,  1.17s/it, gpu_mem=5.18 GB, lr=0.00022, train_loss=0.3649]\n",
      "Valid : 100%|██████████| 6/6 [00:04<00:00,  1.24it/s, gpu_memory=1.95 GB, lr=0.00022, valid_loss=0.3274]\n"
     ]
    },
    {
     "name": "stdout",
     "output_type": "stream",
     "text": [
      "Valid Dice: 0.0444 | Valid Jaccard: 0.0247\n",
      "\n",
      "\n",
      "Epoch 14/18"
     ]
    },
    {
     "name": "stderr",
     "output_type": "stream",
     "text": [
      "Train : 100%|██████████| 24/24 [00:28<00:00,  1.19s/it, gpu_mem=5.15 GB, lr=0.00015, train_loss=0.3507]\n",
      "Valid : 100%|██████████| 6/6 [00:04<00:00,  1.24it/s, gpu_memory=1.87 GB, lr=0.00015, valid_loss=0.3299]\n"
     ]
    },
    {
     "name": "stdout",
     "output_type": "stream",
     "text": [
      "Valid Dice: 0.0381 | Valid Jaccard: 0.0209\n",
      "\n",
      "\n",
      "Epoch 15/18"
     ]
    },
    {
     "name": "stderr",
     "output_type": "stream",
     "text": [
      "Train : 100%|██████████| 24/24 [00:28<00:00,  1.18s/it, gpu_mem=5.18 GB, lr=0.00008, train_loss=0.3792]\n",
      "Valid : 100%|██████████| 6/6 [00:05<00:00,  1.17it/s, gpu_memory=1.95 GB, lr=0.00008, valid_loss=0.3284]\n"
     ]
    },
    {
     "name": "stdout",
     "output_type": "stream",
     "text": [
      "Valid Dice: 0.0374 | Valid Jaccard: 0.0206\n",
      "\n",
      "\n",
      "Epoch 16/18"
     ]
    },
    {
     "name": "stderr",
     "output_type": "stream",
     "text": [
      "Train : 100%|██████████| 24/24 [00:28<00:00,  1.17s/it, gpu_mem=5.15 GB, lr=0.00004, train_loss=0.3586]\n",
      "Valid : 100%|██████████| 6/6 [00:05<00:00,  1.18it/s, gpu_memory=1.87 GB, lr=0.00004, valid_loss=0.3270]\n"
     ]
    },
    {
     "name": "stdout",
     "output_type": "stream",
     "text": [
      "Valid Dice: 0.0372 | Valid Jaccard: 0.0206\n",
      "\n",
      "\n",
      "Epoch 17/18"
     ]
    },
    {
     "name": "stderr",
     "output_type": "stream",
     "text": [
      "Train : 100%|██████████| 24/24 [00:28<00:00,  1.18s/it, gpu_mem=5.18 GB, lr=0.00001, train_loss=0.3637]\n",
      "Valid : 100%|██████████| 6/6 [00:05<00:00,  1.20it/s, gpu_memory=1.95 GB, lr=0.00001, valid_loss=0.3284]\n"
     ]
    },
    {
     "name": "stdout",
     "output_type": "stream",
     "text": [
      "Valid Dice: 0.0348 | Valid Jaccard: 0.0191\n",
      "\n",
      "\n",
      "Epoch 18/18"
     ]
    },
    {
     "name": "stderr",
     "output_type": "stream",
     "text": [
      "Train : 100%|██████████| 24/24 [00:27<00:00,  1.16s/it, gpu_mem=5.15 GB, lr=0.00000, train_loss=0.3590]\n",
      "Valid : 100%|██████████| 6/6 [00:05<00:00,  1.13it/s, gpu_memory=1.87 GB, lr=0.00000, valid_loss=0.3286]\n"
     ]
    },
    {
     "name": "stdout",
     "output_type": "stream",
     "text": [
      "Valid Dice: 0.0389 | Valid Jaccard: 0.0215\n",
      "\n",
      "\n",
      "Training complete in 0h 10m 26s\n",
      "Best Score: 0.0700\n"
     ]
    }
   ],
   "source": [
    "for fold in CFG.folds_to_run:\n",
    "    print(f'#'*15)\n",
    "    print(f'### Fold: {fold}')\n",
    "    print(f'#'*15)\n",
    "    train_loader, valid_loader = prepare_loaders(fold=fold)\n",
    "    model = build_model()\n",
    "    optimizer = get_optimizer()\n",
    "    scheduler = get_scheduler(optimizer)\n",
    "    model, history = run_training(model, optimizer, scheduler,\n",
    "                                  device=CFG.device,\n",
    "                                  num_epochs=CFG.epochs)"
   ]
  },
  {
   "cell_type": "code",
   "execution_count": null,
   "id": "d8cde7e1",
   "metadata": {
    "papermill": {
     "duration": 0.431238,
     "end_time": "2022-07-04T13:09:58.878882",
     "exception": false,
     "start_time": "2022-07-04T13:09:58.447644",
     "status": "completed"
    },
    "tags": []
   },
   "outputs": [],
   "source": []
  }
 ],
 "metadata": {
  "kernelspec": {
   "display_name": "Python 3",
   "language": "python",
   "name": "python3"
  },
  "language_info": {
   "codemirror_mode": {
    "name": "ipython",
    "version": 3
   },
   "file_extension": ".py",
   "mimetype": "text/x-python",
   "name": "python",
   "nbconvert_exporter": "python",
   "pygments_lexer": "ipython3",
   "version": "3.7.12"
  },
  "papermill": {
   "default_parameters": {},
   "duration": 3210.830714,
   "end_time": "2022-07-04T13:10:02.217355",
   "environment_variables": {},
   "exception": null,
   "input_path": "__notebook__.ipynb",
   "output_path": "__notebook__.ipynb",
   "parameters": {},
   "start_time": "2022-07-04T12:16:31.386641",
   "version": "2.3.4"
  },
  "widgets": {
   "application/vnd.jupyter.widget-state+json": {
    "state": {
     "0aba5b5b083d4e45b91edd0bbd566a1f": {
      "model_module": "@jupyter-widgets/controls",
      "model_module_version": "1.5.0",
      "model_name": "FloatProgressModel",
      "state": {
       "_dom_classes": [],
       "_model_module": "@jupyter-widgets/controls",
       "_model_module_version": "1.5.0",
       "_model_name": "FloatProgressModel",
       "_view_count": null,
       "_view_module": "@jupyter-widgets/controls",
       "_view_module_version": "1.5.0",
       "_view_name": "ProgressView",
       "bar_style": "success",
       "description": "",
       "description_tooltip": null,
       "layout": "IPY_MODEL_f09fff13d9534863b415ea6d5cf543af",
       "max": 100441675.0,
       "min": 0.0,
       "orientation": "horizontal",
       "style": "IPY_MODEL_c1169a22b2f04d8a991fbd2e4e1bc4a4",
       "value": 100441675.0
      }
     },
     "1af8bc283265413395e98e53d4fb9c01": {
      "model_module": "@jupyter-widgets/controls",
      "model_module_version": "1.5.0",
      "model_name": "DescriptionStyleModel",
      "state": {
       "_model_module": "@jupyter-widgets/controls",
       "_model_module_version": "1.5.0",
       "_model_name": "DescriptionStyleModel",
       "_view_count": null,
       "_view_module": "@jupyter-widgets/base",
       "_view_module_version": "1.2.0",
       "_view_name": "StyleView",
       "description_width": ""
      }
     },
     "34fe2e25402344b0a5a4b60c8c7418b1": {
      "model_module": "@jupyter-widgets/base",
      "model_module_version": "1.2.0",
      "model_name": "LayoutModel",
      "state": {
       "_model_module": "@jupyter-widgets/base",
       "_model_module_version": "1.2.0",
       "_model_name": "LayoutModel",
       "_view_count": null,
       "_view_module": "@jupyter-widgets/base",
       "_view_module_version": "1.2.0",
       "_view_name": "LayoutView",
       "align_content": null,
       "align_items": null,
       "align_self": null,
       "border": null,
       "bottom": null,
       "display": null,
       "flex": null,
       "flex_flow": null,
       "grid_area": null,
       "grid_auto_columns": null,
       "grid_auto_flow": null,
       "grid_auto_rows": null,
       "grid_column": null,
       "grid_gap": null,
       "grid_row": null,
       "grid_template_areas": null,
       "grid_template_columns": null,
       "grid_template_rows": null,
       "height": null,
       "justify_content": null,
       "justify_items": null,
       "left": null,
       "margin": null,
       "max_height": null,
       "max_width": null,
       "min_height": null,
       "min_width": null,
       "object_fit": null,
       "object_position": null,
       "order": null,
       "overflow": null,
       "overflow_x": null,
       "overflow_y": null,
       "padding": null,
       "right": null,
       "top": null,
       "visibility": null,
       "width": null
      }
     },
     "4825f60acb3b48ca9b51658ad66c4c73": {
      "model_module": "@jupyter-widgets/controls",
      "model_module_version": "1.5.0",
      "model_name": "HTMLModel",
      "state": {
       "_dom_classes": [],
       "_model_module": "@jupyter-widgets/controls",
       "_model_module_version": "1.5.0",
       "_model_name": "HTMLModel",
       "_view_count": null,
       "_view_module": "@jupyter-widgets/controls",
       "_view_module_version": "1.5.0",
       "_view_name": "HTMLView",
       "description": "",
       "description_tooltip": null,
       "layout": "IPY_MODEL_34fe2e25402344b0a5a4b60c8c7418b1",
       "placeholder": "​",
       "style": "IPY_MODEL_1af8bc283265413395e98e53d4fb9c01",
       "value": "100%"
      }
     },
     "8940f69c9d8a4feaae7d59b62c5b2ccc": {
      "model_module": "@jupyter-widgets/controls",
      "model_module_version": "1.5.0",
      "model_name": "DescriptionStyleModel",
      "state": {
       "_model_module": "@jupyter-widgets/controls",
       "_model_module_version": "1.5.0",
       "_model_name": "DescriptionStyleModel",
       "_view_count": null,
       "_view_module": "@jupyter-widgets/base",
       "_view_module_version": "1.2.0",
       "_view_name": "StyleView",
       "description_width": ""
      }
     },
     "8c4b46ae8e7541f88fd008f9de6a6233": {
      "model_module": "@jupyter-widgets/controls",
      "model_module_version": "1.5.0",
      "model_name": "HTMLModel",
      "state": {
       "_dom_classes": [],
       "_model_module": "@jupyter-widgets/controls",
       "_model_module_version": "1.5.0",
       "_model_name": "HTMLModel",
       "_view_count": null,
       "_view_module": "@jupyter-widgets/controls",
       "_view_module_version": "1.5.0",
       "_view_name": "HTMLView",
       "description": "",
       "description_tooltip": null,
       "layout": "IPY_MODEL_d0a00393137646ba94fb1db22884caec",
       "placeholder": "​",
       "style": "IPY_MODEL_8940f69c9d8a4feaae7d59b62c5b2ccc",
       "value": " 95.8M/95.8M [00:03&lt;00:00, 35.8MB/s]"
      }
     },
     "c1169a22b2f04d8a991fbd2e4e1bc4a4": {
      "model_module": "@jupyter-widgets/controls",
      "model_module_version": "1.5.0",
      "model_name": "ProgressStyleModel",
      "state": {
       "_model_module": "@jupyter-widgets/controls",
       "_model_module_version": "1.5.0",
       "_model_name": "ProgressStyleModel",
       "_view_count": null,
       "_view_module": "@jupyter-widgets/base",
       "_view_module_version": "1.2.0",
       "_view_name": "StyleView",
       "bar_color": null,
       "description_width": ""
      }
     },
     "c688eb46700142b4b6cac786cfd96687": {
      "model_module": "@jupyter-widgets/base",
      "model_module_version": "1.2.0",
      "model_name": "LayoutModel",
      "state": {
       "_model_module": "@jupyter-widgets/base",
       "_model_module_version": "1.2.0",
       "_model_name": "LayoutModel",
       "_view_count": null,
       "_view_module": "@jupyter-widgets/base",
       "_view_module_version": "1.2.0",
       "_view_name": "LayoutView",
       "align_content": null,
       "align_items": null,
       "align_self": null,
       "border": null,
       "bottom": null,
       "display": null,
       "flex": null,
       "flex_flow": null,
       "grid_area": null,
       "grid_auto_columns": null,
       "grid_auto_flow": null,
       "grid_auto_rows": null,
       "grid_column": null,
       "grid_gap": null,
       "grid_row": null,
       "grid_template_areas": null,
       "grid_template_columns": null,
       "grid_template_rows": null,
       "height": null,
       "justify_content": null,
       "justify_items": null,
       "left": null,
       "margin": null,
       "max_height": null,
       "max_width": null,
       "min_height": null,
       "min_width": null,
       "object_fit": null,
       "object_position": null,
       "order": null,
       "overflow": null,
       "overflow_x": null,
       "overflow_y": null,
       "padding": null,
       "right": null,
       "top": null,
       "visibility": null,
       "width": null
      }
     },
     "d0a00393137646ba94fb1db22884caec": {
      "model_module": "@jupyter-widgets/base",
      "model_module_version": "1.2.0",
      "model_name": "LayoutModel",
      "state": {
       "_model_module": "@jupyter-widgets/base",
       "_model_module_version": "1.2.0",
       "_model_name": "LayoutModel",
       "_view_count": null,
       "_view_module": "@jupyter-widgets/base",
       "_view_module_version": "1.2.0",
       "_view_name": "LayoutView",
       "align_content": null,
       "align_items": null,
       "align_self": null,
       "border": null,
       "bottom": null,
       "display": null,
       "flex": null,
       "flex_flow": null,
       "grid_area": null,
       "grid_auto_columns": null,
       "grid_auto_flow": null,
       "grid_auto_rows": null,
       "grid_column": null,
       "grid_gap": null,
       "grid_row": null,
       "grid_template_areas": null,
       "grid_template_columns": null,
       "grid_template_rows": null,
       "height": null,
       "justify_content": null,
       "justify_items": null,
       "left": null,
       "margin": null,
       "max_height": null,
       "max_width": null,
       "min_height": null,
       "min_width": null,
       "object_fit": null,
       "object_position": null,
       "order": null,
       "overflow": null,
       "overflow_x": null,
       "overflow_y": null,
       "padding": null,
       "right": null,
       "top": null,
       "visibility": null,
       "width": null
      }
     },
     "e5c71daedbf84535be3c7b467bea216e": {
      "model_module": "@jupyter-widgets/controls",
      "model_module_version": "1.5.0",
      "model_name": "HBoxModel",
      "state": {
       "_dom_classes": [],
       "_model_module": "@jupyter-widgets/controls",
       "_model_module_version": "1.5.0",
       "_model_name": "HBoxModel",
       "_view_count": null,
       "_view_module": "@jupyter-widgets/controls",
       "_view_module_version": "1.5.0",
       "_view_name": "HBoxView",
       "box_style": "",
       "children": [
        "IPY_MODEL_4825f60acb3b48ca9b51658ad66c4c73",
        "IPY_MODEL_0aba5b5b083d4e45b91edd0bbd566a1f",
        "IPY_MODEL_8c4b46ae8e7541f88fd008f9de6a6233"
       ],
       "layout": "IPY_MODEL_c688eb46700142b4b6cac786cfd96687"
      }
     },
     "f09fff13d9534863b415ea6d5cf543af": {
      "model_module": "@jupyter-widgets/base",
      "model_module_version": "1.2.0",
      "model_name": "LayoutModel",
      "state": {
       "_model_module": "@jupyter-widgets/base",
       "_model_module_version": "1.2.0",
       "_model_name": "LayoutModel",
       "_view_count": null,
       "_view_module": "@jupyter-widgets/base",
       "_view_module_version": "1.2.0",
       "_view_name": "LayoutView",
       "align_content": null,
       "align_items": null,
       "align_self": null,
       "border": null,
       "bottom": null,
       "display": null,
       "flex": null,
       "flex_flow": null,
       "grid_area": null,
       "grid_auto_columns": null,
       "grid_auto_flow": null,
       "grid_auto_rows": null,
       "grid_column": null,
       "grid_gap": null,
       "grid_row": null,
       "grid_template_areas": null,
       "grid_template_columns": null,
       "grid_template_rows": null,
       "height": null,
       "justify_content": null,
       "justify_items": null,
       "left": null,
       "margin": null,
       "max_height": null,
       "max_width": null,
       "min_height": null,
       "min_width": null,
       "object_fit": null,
       "object_position": null,
       "order": null,
       "overflow": null,
       "overflow_x": null,
       "overflow_y": null,
       "padding": null,
       "right": null,
       "top": null,
       "visibility": null,
       "width": null
      }
     }
    },
    "version_major": 2,
    "version_minor": 0
   }
  }
 },
 "nbformat": 4,
 "nbformat_minor": 5
}
